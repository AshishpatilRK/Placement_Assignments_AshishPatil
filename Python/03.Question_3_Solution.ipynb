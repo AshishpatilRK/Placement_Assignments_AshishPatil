{
 "cells": [
  {
   "cell_type": "markdown",
   "id": "88ffdfec",
   "metadata": {},
   "source": [
    "# Question 3"
   ]
  },
  {
   "cell_type": "markdown",
   "id": "4bdcd18a",
   "metadata": {},
   "source": [
    "Write a program, which would download the data from the provided link, and then read the data and convert\n",
    "that into properly structured data and return it in Excel format.\n",
    "Note - Write comments wherever necessary explaining the code written.\n",
    "\n",
    "    Data Attributes - \n",
    "    ● id: Identification Number - int num: Number of the\n",
    "    ● Pokémon in the official Pokédex - int name: Pokémon name -\n",
    "    ● string img: URL to an image of this Pokémon - string type:\n",
    "    ● Pokémon type -string height: Pokémon height - float\n",
    "    ● weight: Pokémon weight - float candy: type of candy used to evolve Pokémon or\n",
    "    given\n",
    "    ● when transferred - string candy_count: the amount of candies required to evolve\n",
    "    - int\n",
    "    ● egg: Number of kilometers to travel to hatch the egg - float spawn_chance:\n",
    "    ● Percentage of spawn chance (NEW) - float avg_spawns: Number of this\n",
    "    pokemon on 10.000 spawns (NEW) - int\n",
    "    ● spawn_time: Spawns most active at the time on this field. Spawn times are the same for all\n",
    "    time zones and are expressed in local time. (NEW) - “minutes: seconds” multipliers:\n",
    "    Multiplier of Combat Power (CP) for calculating the CP after evolution See below - list of int\n",
    "    weakness: Types of\n",
    "    ● Pokémon this Pokémon is weak to - list of strings next_evolution: Number and Name of\n",
    "    successive evolutions of Pokémon - list of dict prev_evolution: Number and Name of previous\n",
    "    evolutions of Pokémon - - list of dict"
   ]
  },
  {
   "cell_type": "markdown",
   "id": "9b540fb0",
   "metadata": {},
   "source": [
    "DataLink - https://raw.githubusercontent.com/Biuni/PokemonGO-Pokedex/master/pokedex.json"
   ]
  },
  {
   "cell_type": "code",
   "execution_count": 1,
   "id": "44573f36",
   "metadata": {},
   "outputs": [],
   "source": [
    "# importing neccesary libraries\n",
    "import requests  # send HTTP request\n",
    "import csv           # making csv file\n",
    "import pandas as pd   # data reading\n",
    "import json          # get json data"
   ]
  },
  {
   "cell_type": "code",
   "execution_count": 2,
   "id": "2ae5f724",
   "metadata": {},
   "outputs": [],
   "source": [
    "response = requests.get('https://raw.githubusercontent.com/Biuni/PokemonGO-Pokedex/master/pokedex.json') # get json data from url\n",
    "response.status_code == 200   # give code to extract data\n",
    "json_data = response.text   # get data in form of txt"
   ]
  },
  {
   "cell_type": "code",
   "execution_count": 3,
   "id": "6f3116f2",
   "metadata": {
    "scrolled": true
   },
   "outputs": [],
   "source": [
    "pokemon_data = json.loads(json_data)['pokemon']   # load json data "
   ]
  },
  {
   "cell_type": "code",
   "execution_count": 4,
   "id": "3de778df",
   "metadata": {},
   "outputs": [
    {
     "name": "stdout",
     "output_type": "stream",
     "text": [
      "{'id': 151, 'num': '151', 'name': 'Mew', 'img': 'http://www.serebii.net/pokemongo/pokemon/151.png', 'type': 'Psychic', 'height': '0.41 m', 'weight': '4.0 kg', 'candy': 'None', 'candy_count': '', 'egg': 'Not in Eggs', 'spawn_chance': 0, 'avg_spawns': 0, 'spawn_time': 'N/A', 'multipliers': '', 'weakness': 'Bug, Ghost, Dark', 'next_evolution': '', 'prev_evolution': ''}\n"
     ]
    }
   ],
   "source": [
    "rows=[]          # get data in proper format with headers as features\n",
    "for pokemon in pokemon_data:\n",
    "    row={\n",
    "        'id':pokemon['id'],\n",
    "        'num':pokemon['num'],\n",
    "        'name':pokemon['name'],\n",
    "        'img':pokemon['img'],\n",
    "        'type':\", \".join(pokemon['type']),\n",
    "        'height':pokemon['height'],\n",
    "        'weight': pokemon['weight'],\n",
    "        # get function can be used when there are missing values and its returns the default values in that case\n",
    "        'candy':pokemon.get('candy',''),\n",
    "        'candy_count':pokemon.get('candy_count',''),\n",
    "        'egg':pokemon.get('egg',''),\n",
    "        'spawn_chance':pokemon.get('spawn_chance',''),\n",
    "        'avg_spawns':pokemon.get('avg_spawns',''),\n",
    "        'spawn_time':pokemon.get('spawn_time',''),\n",
    "        'multipliers': \", \".join(str(multiplier) for multiplier in pokemon.get('multipliers', [])) if pokemon.get('multipliers') is not None else '',\n",
    "        'weakness':\", \".join(pokemon['weaknesses']),\n",
    "        'next_evolution':\", \".join([evolution['name'] for evolution in pokemon.get('next_evolution',[])]),\n",
    "        'prev_evolution':', '.join([evolution['name'] for evolution in pokemon.get('prev_evolution',[])])\n",
    "        \n",
    "    }\n",
    "    rows.append(row)\n",
    "    \n",
    "print(row)"
   ]
  },
  {
   "cell_type": "code",
   "execution_count": 5,
   "id": "b64cf115",
   "metadata": {},
   "outputs": [
    {
     "name": "stdout",
     "output_type": "stream",
     "text": [
      "the data has successfully converted and saved to pokemon_excel.xlsx\n"
     ]
    }
   ],
   "source": [
    "df = pd.DataFrame(rows)   # making required data in dataframe\n",
    "excel_file = \"pokemon_excel.xlsx\"   # required excel file\n",
    "df.to_excel(excel_file, index=False)    # converting data to excel file\n",
    "print(f'the data has successfully converted and saved to {excel_file}')  # saving excel file"
   ]
  },
  {
   "cell_type": "code",
   "execution_count": 6,
   "id": "7e99c27e",
   "metadata": {},
   "outputs": [
    {
     "data": {
      "text/html": [
       "<div>\n",
       "<style scoped>\n",
       "    .dataframe tbody tr th:only-of-type {\n",
       "        vertical-align: middle;\n",
       "    }\n",
       "\n",
       "    .dataframe tbody tr th {\n",
       "        vertical-align: top;\n",
       "    }\n",
       "\n",
       "    .dataframe thead th {\n",
       "        text-align: right;\n",
       "    }\n",
       "</style>\n",
       "<table border=\"1\" class=\"dataframe\">\n",
       "  <thead>\n",
       "    <tr style=\"text-align: right;\">\n",
       "      <th></th>\n",
       "      <th>id</th>\n",
       "      <th>num</th>\n",
       "      <th>name</th>\n",
       "      <th>img</th>\n",
       "      <th>type</th>\n",
       "      <th>height</th>\n",
       "      <th>weight</th>\n",
       "      <th>candy</th>\n",
       "      <th>candy_count</th>\n",
       "      <th>egg</th>\n",
       "      <th>spawn_chance</th>\n",
       "      <th>avg_spawns</th>\n",
       "      <th>spawn_time</th>\n",
       "      <th>multipliers</th>\n",
       "      <th>weakness</th>\n",
       "      <th>next_evolution</th>\n",
       "      <th>prev_evolution</th>\n",
       "    </tr>\n",
       "  </thead>\n",
       "  <tbody>\n",
       "    <tr>\n",
       "      <th>0</th>\n",
       "      <td>1</td>\n",
       "      <td>1</td>\n",
       "      <td>Bulbasaur</td>\n",
       "      <td>http://www.serebii.net/pokemongo/pokemon/001.png</td>\n",
       "      <td>Grass, Poison</td>\n",
       "      <td>0.71 m</td>\n",
       "      <td>6.9 kg</td>\n",
       "      <td>Bulbasaur Candy</td>\n",
       "      <td>25.0</td>\n",
       "      <td>2 km</td>\n",
       "      <td>0.690</td>\n",
       "      <td>69.0</td>\n",
       "      <td>20:00</td>\n",
       "      <td>1.58</td>\n",
       "      <td>Fire, Ice, Flying, Psychic</td>\n",
       "      <td>Ivysaur, Venusaur</td>\n",
       "      <td>NaN</td>\n",
       "    </tr>\n",
       "    <tr>\n",
       "      <th>1</th>\n",
       "      <td>2</td>\n",
       "      <td>2</td>\n",
       "      <td>Ivysaur</td>\n",
       "      <td>http://www.serebii.net/pokemongo/pokemon/002.png</td>\n",
       "      <td>Grass, Poison</td>\n",
       "      <td>0.99 m</td>\n",
       "      <td>13.0 kg</td>\n",
       "      <td>Bulbasaur Candy</td>\n",
       "      <td>100.0</td>\n",
       "      <td>Not in Eggs</td>\n",
       "      <td>0.042</td>\n",
       "      <td>4.2</td>\n",
       "      <td>07:00</td>\n",
       "      <td>1.2, 1.6</td>\n",
       "      <td>Fire, Ice, Flying, Psychic</td>\n",
       "      <td>Venusaur</td>\n",
       "      <td>Bulbasaur</td>\n",
       "    </tr>\n",
       "    <tr>\n",
       "      <th>2</th>\n",
       "      <td>3</td>\n",
       "      <td>3</td>\n",
       "      <td>Venusaur</td>\n",
       "      <td>http://www.serebii.net/pokemongo/pokemon/003.png</td>\n",
       "      <td>Grass, Poison</td>\n",
       "      <td>2.01 m</td>\n",
       "      <td>100.0 kg</td>\n",
       "      <td>Bulbasaur Candy</td>\n",
       "      <td>NaN</td>\n",
       "      <td>Not in Eggs</td>\n",
       "      <td>0.017</td>\n",
       "      <td>1.7</td>\n",
       "      <td>11:30</td>\n",
       "      <td>NaN</td>\n",
       "      <td>Fire, Ice, Flying, Psychic</td>\n",
       "      <td>NaN</td>\n",
       "      <td>Bulbasaur, Ivysaur</td>\n",
       "    </tr>\n",
       "    <tr>\n",
       "      <th>3</th>\n",
       "      <td>4</td>\n",
       "      <td>4</td>\n",
       "      <td>Charmander</td>\n",
       "      <td>http://www.serebii.net/pokemongo/pokemon/004.png</td>\n",
       "      <td>Fire</td>\n",
       "      <td>0.61 m</td>\n",
       "      <td>8.5 kg</td>\n",
       "      <td>Charmander Candy</td>\n",
       "      <td>25.0</td>\n",
       "      <td>2 km</td>\n",
       "      <td>0.253</td>\n",
       "      <td>25.3</td>\n",
       "      <td>08:45</td>\n",
       "      <td>1.65</td>\n",
       "      <td>Water, Ground, Rock</td>\n",
       "      <td>Charmeleon, Charizard</td>\n",
       "      <td>NaN</td>\n",
       "    </tr>\n",
       "    <tr>\n",
       "      <th>4</th>\n",
       "      <td>5</td>\n",
       "      <td>5</td>\n",
       "      <td>Charmeleon</td>\n",
       "      <td>http://www.serebii.net/pokemongo/pokemon/005.png</td>\n",
       "      <td>Fire</td>\n",
       "      <td>1.09 m</td>\n",
       "      <td>19.0 kg</td>\n",
       "      <td>Charmander Candy</td>\n",
       "      <td>100.0</td>\n",
       "      <td>Not in Eggs</td>\n",
       "      <td>0.012</td>\n",
       "      <td>1.2</td>\n",
       "      <td>19:00</td>\n",
       "      <td>1.79</td>\n",
       "      <td>Water, Ground, Rock</td>\n",
       "      <td>Charizard</td>\n",
       "      <td>Charmander</td>\n",
       "    </tr>\n",
       "  </tbody>\n",
       "</table>\n",
       "</div>"
      ],
      "text/plain": [
       "   id  num        name                                               img  \\\n",
       "0   1    1   Bulbasaur  http://www.serebii.net/pokemongo/pokemon/001.png   \n",
       "1   2    2     Ivysaur  http://www.serebii.net/pokemongo/pokemon/002.png   \n",
       "2   3    3    Venusaur  http://www.serebii.net/pokemongo/pokemon/003.png   \n",
       "3   4    4  Charmander  http://www.serebii.net/pokemongo/pokemon/004.png   \n",
       "4   5    5  Charmeleon  http://www.serebii.net/pokemongo/pokemon/005.png   \n",
       "\n",
       "            type  height    weight             candy  candy_count  \\\n",
       "0  Grass, Poison  0.71 m    6.9 kg   Bulbasaur Candy         25.0   \n",
       "1  Grass, Poison  0.99 m   13.0 kg   Bulbasaur Candy        100.0   \n",
       "2  Grass, Poison  2.01 m  100.0 kg   Bulbasaur Candy          NaN   \n",
       "3           Fire  0.61 m    8.5 kg  Charmander Candy         25.0   \n",
       "4           Fire  1.09 m   19.0 kg  Charmander Candy        100.0   \n",
       "\n",
       "           egg  spawn_chance  avg_spawns spawn_time multipliers  \\\n",
       "0         2 km         0.690        69.0      20:00        1.58   \n",
       "1  Not in Eggs         0.042         4.2      07:00    1.2, 1.6   \n",
       "2  Not in Eggs         0.017         1.7      11:30         NaN   \n",
       "3         2 km         0.253        25.3      08:45        1.65   \n",
       "4  Not in Eggs         0.012         1.2      19:00        1.79   \n",
       "\n",
       "                     weakness         next_evolution      prev_evolution  \n",
       "0  Fire, Ice, Flying, Psychic      Ivysaur, Venusaur                 NaN  \n",
       "1  Fire, Ice, Flying, Psychic               Venusaur           Bulbasaur  \n",
       "2  Fire, Ice, Flying, Psychic                    NaN  Bulbasaur, Ivysaur  \n",
       "3         Water, Ground, Rock  Charmeleon, Charizard                 NaN  \n",
       "4         Water, Ground, Rock              Charizard          Charmander  "
      ]
     },
     "execution_count": 6,
     "metadata": {},
     "output_type": "execute_result"
    }
   ],
   "source": [
    "df=pd.read_excel('pokemon_excel.xlsx')    # reading excel file using pandas\n",
    "df.head()   # get 1st five rows"
   ]
  },
  {
   "cell_type": "code",
   "execution_count": null,
   "id": "3b62adfb",
   "metadata": {},
   "outputs": [],
   "source": []
  },
  {
   "cell_type": "code",
   "execution_count": null,
   "id": "a091ba1f",
   "metadata": {},
   "outputs": [],
   "source": []
  },
  {
   "cell_type": "code",
   "execution_count": null,
   "id": "afecfd47",
   "metadata": {},
   "outputs": [],
   "source": []
  }
 ],
 "metadata": {
  "kernelspec": {
   "display_name": "Python 3 (ipykernel)",
   "language": "python",
   "name": "python3"
  },
  "language_info": {
   "codemirror_mode": {
    "name": "ipython",
    "version": 3
   },
   "file_extension": ".py",
   "mimetype": "text/x-python",
   "name": "python",
   "nbconvert_exporter": "python",
   "pygments_lexer": "ipython3",
   "version": "3.9.13"
  }
 },
 "nbformat": 4,
 "nbformat_minor": 5
}
