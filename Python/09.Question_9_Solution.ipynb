{
 "cells": [
  {
   "cell_type": "markdown",
   "id": "baa3d102",
   "metadata": {},
   "source": [
    "# Question 9"
   ]
  },
  {
   "cell_type": "markdown",
   "id": "7d80ec5e",
   "metadata": {},
   "source": [
    "Write a program to read the data from the following link, perform data analysis and answer the following\n",
    "questions\n",
    "Note -\n",
    "1. Write code comments wherever required for code understanding"
   ]
  },
  {
   "cell_type": "markdown",
   "id": "d10361f5",
   "metadata": {},
   "source": [
    "    Insights to be drawn -\n",
    "    ● Get all the cars and their types that do not qualify for clean alternative fuel vehicle\n",
    "    ● Get all TESLA cars with the model year, and model type made in Bothell City.\n",
    "    ● Get all the cars that have an electric range of more than 100, and were made after\n",
    "    2015\n",
    "    ● Draw plots to show the distribution between city and electric vehicle type"
   ]
  },
  {
   "cell_type": "markdown",
   "id": "05f55660",
   "metadata": {},
   "source": [
    "DataLink - https://data.wa.gov/api/views/f6w7-q2d2/rows.csv?accessType=DOWNLOAD"
   ]
  },
  {
   "cell_type": "code",
   "execution_count": 1,
   "id": "96e5c57c",
   "metadata": {},
   "outputs": [],
   "source": [
    "# importing neccesary libraries\n",
    "import pandas as pd   # for reading dataset and analysis\n",
    "import matplotlib.pyplot as plt         # for visualization"
   ]
  },
  {
   "cell_type": "code",
   "execution_count": 2,
   "id": "d049ea5b",
   "metadata": {},
   "outputs": [],
   "source": [
    "# Read the data from the CSV file\n",
    "data_url = \"https://data.wa.gov/api/views/f6w7-q2d2/rows.csv?accessType=DOWNLOAD\"\n",
    "df = pd.read_csv(data_url)    \n",
    "# df = pd.read_csv(\"Electric_Vehicle_Population_Data\")   # use this also after downloading file"
   ]
  },
  {
   "cell_type": "code",
   "execution_count": 3,
   "id": "028d02b5",
   "metadata": {},
   "outputs": [
    {
     "data": {
      "text/html": [
       "<div>\n",
       "<style scoped>\n",
       "    .dataframe tbody tr th:only-of-type {\n",
       "        vertical-align: middle;\n",
       "    }\n",
       "\n",
       "    .dataframe tbody tr th {\n",
       "        vertical-align: top;\n",
       "    }\n",
       "\n",
       "    .dataframe thead th {\n",
       "        text-align: right;\n",
       "    }\n",
       "</style>\n",
       "<table border=\"1\" class=\"dataframe\">\n",
       "  <thead>\n",
       "    <tr style=\"text-align: right;\">\n",
       "      <th></th>\n",
       "      <th>VIN (1-10)</th>\n",
       "      <th>County</th>\n",
       "      <th>City</th>\n",
       "      <th>State</th>\n",
       "      <th>Postal Code</th>\n",
       "      <th>Model Year</th>\n",
       "      <th>Make</th>\n",
       "      <th>Model</th>\n",
       "      <th>Electric Vehicle Type</th>\n",
       "      <th>Clean Alternative Fuel Vehicle (CAFV) Eligibility</th>\n",
       "      <th>Electric Range</th>\n",
       "      <th>Base MSRP</th>\n",
       "      <th>Legislative District</th>\n",
       "      <th>DOL Vehicle ID</th>\n",
       "      <th>Vehicle Location</th>\n",
       "      <th>Electric Utility</th>\n",
       "      <th>2020 Census Tract</th>\n",
       "    </tr>\n",
       "  </thead>\n",
       "  <tbody>\n",
       "    <tr>\n",
       "      <th>0</th>\n",
       "      <td>5YJ3E1EA0K</td>\n",
       "      <td>Thurston</td>\n",
       "      <td>Tumwater</td>\n",
       "      <td>WA</td>\n",
       "      <td>98512.0</td>\n",
       "      <td>2019</td>\n",
       "      <td>TESLA</td>\n",
       "      <td>MODEL 3</td>\n",
       "      <td>Battery Electric Vehicle (BEV)</td>\n",
       "      <td>Clean Alternative Fuel Vehicle Eligible</td>\n",
       "      <td>220.0</td>\n",
       "      <td>0.0</td>\n",
       "      <td>22.0</td>\n",
       "      <td>242565116</td>\n",
       "      <td>POINT (-122.91310169999997 47.01359260000004)</td>\n",
       "      <td>PUGET SOUND ENERGY INC</td>\n",
       "      <td>5.306701e+10</td>\n",
       "    </tr>\n",
       "    <tr>\n",
       "      <th>1</th>\n",
       "      <td>1N4BZ1DV4N</td>\n",
       "      <td>Island</td>\n",
       "      <td>Clinton</td>\n",
       "      <td>WA</td>\n",
       "      <td>98236.0</td>\n",
       "      <td>2022</td>\n",
       "      <td>NISSAN</td>\n",
       "      <td>LEAF</td>\n",
       "      <td>Battery Electric Vehicle (BEV)</td>\n",
       "      <td>Eligibility unknown as battery range has not b...</td>\n",
       "      <td>0.0</td>\n",
       "      <td>0.0</td>\n",
       "      <td>10.0</td>\n",
       "      <td>183272785</td>\n",
       "      <td>POINT (-122.35936399999997 47.97965520000008)</td>\n",
       "      <td>PUGET SOUND ENERGY INC</td>\n",
       "      <td>5.302997e+10</td>\n",
       "    </tr>\n",
       "    <tr>\n",
       "      <th>2</th>\n",
       "      <td>5YJ3E1EA0L</td>\n",
       "      <td>Snohomish</td>\n",
       "      <td>Snohomish</td>\n",
       "      <td>WA</td>\n",
       "      <td>98290.0</td>\n",
       "      <td>2020</td>\n",
       "      <td>TESLA</td>\n",
       "      <td>MODEL 3</td>\n",
       "      <td>Battery Electric Vehicle (BEV)</td>\n",
       "      <td>Clean Alternative Fuel Vehicle Eligible</td>\n",
       "      <td>266.0</td>\n",
       "      <td>0.0</td>\n",
       "      <td>44.0</td>\n",
       "      <td>112552366</td>\n",
       "      <td>POINT (-122.09150499999998 47.91555500000004)</td>\n",
       "      <td>PUGET SOUND ENERGY INC</td>\n",
       "      <td>5.306105e+10</td>\n",
       "    </tr>\n",
       "    <tr>\n",
       "      <th>3</th>\n",
       "      <td>5YJ3E1EBXL</td>\n",
       "      <td>King</td>\n",
       "      <td>Seattle</td>\n",
       "      <td>WA</td>\n",
       "      <td>98134.0</td>\n",
       "      <td>2020</td>\n",
       "      <td>TESLA</td>\n",
       "      <td>MODEL 3</td>\n",
       "      <td>Battery Electric Vehicle (BEV)</td>\n",
       "      <td>Clean Alternative Fuel Vehicle Eligible</td>\n",
       "      <td>322.0</td>\n",
       "      <td>0.0</td>\n",
       "      <td>11.0</td>\n",
       "      <td>6336319</td>\n",
       "      <td>POINT (-122.32981499999994 47.579810000000066)</td>\n",
       "      <td>CITY OF SEATTLE - (WA)|CITY OF TACOMA - (WA)</td>\n",
       "      <td>5.303301e+10</td>\n",
       "    </tr>\n",
       "    <tr>\n",
       "      <th>4</th>\n",
       "      <td>5YJSA1CP0D</td>\n",
       "      <td>Snohomish</td>\n",
       "      <td>Edmonds</td>\n",
       "      <td>WA</td>\n",
       "      <td>98020.0</td>\n",
       "      <td>2013</td>\n",
       "      <td>TESLA</td>\n",
       "      <td>MODEL S</td>\n",
       "      <td>Battery Electric Vehicle (BEV)</td>\n",
       "      <td>Clean Alternative Fuel Vehicle Eligible</td>\n",
       "      <td>208.0</td>\n",
       "      <td>69900.0</td>\n",
       "      <td>21.0</td>\n",
       "      <td>186212960</td>\n",
       "      <td>POINT (-122.37507 47.80807000000004)</td>\n",
       "      <td>PUGET SOUND ENERGY INC</td>\n",
       "      <td>5.306105e+10</td>\n",
       "    </tr>\n",
       "  </tbody>\n",
       "</table>\n",
       "</div>"
      ],
      "text/plain": [
       "   VIN (1-10)     County       City State  Postal Code  Model Year    Make  \\\n",
       "0  5YJ3E1EA0K   Thurston   Tumwater    WA      98512.0        2019   TESLA   \n",
       "1  1N4BZ1DV4N     Island    Clinton    WA      98236.0        2022  NISSAN   \n",
       "2  5YJ3E1EA0L  Snohomish  Snohomish    WA      98290.0        2020   TESLA   \n",
       "3  5YJ3E1EBXL       King    Seattle    WA      98134.0        2020   TESLA   \n",
       "4  5YJSA1CP0D  Snohomish    Edmonds    WA      98020.0        2013   TESLA   \n",
       "\n",
       "     Model           Electric Vehicle Type  \\\n",
       "0  MODEL 3  Battery Electric Vehicle (BEV)   \n",
       "1     LEAF  Battery Electric Vehicle (BEV)   \n",
       "2  MODEL 3  Battery Electric Vehicle (BEV)   \n",
       "3  MODEL 3  Battery Electric Vehicle (BEV)   \n",
       "4  MODEL S  Battery Electric Vehicle (BEV)   \n",
       "\n",
       "   Clean Alternative Fuel Vehicle (CAFV) Eligibility  Electric Range  \\\n",
       "0            Clean Alternative Fuel Vehicle Eligible           220.0   \n",
       "1  Eligibility unknown as battery range has not b...             0.0   \n",
       "2            Clean Alternative Fuel Vehicle Eligible           266.0   \n",
       "3            Clean Alternative Fuel Vehicle Eligible           322.0   \n",
       "4            Clean Alternative Fuel Vehicle Eligible           208.0   \n",
       "\n",
       "   Base MSRP  Legislative District  DOL Vehicle ID  \\\n",
       "0        0.0                  22.0       242565116   \n",
       "1        0.0                  10.0       183272785   \n",
       "2        0.0                  44.0       112552366   \n",
       "3        0.0                  11.0         6336319   \n",
       "4    69900.0                  21.0       186212960   \n",
       "\n",
       "                                 Vehicle Location  \\\n",
       "0   POINT (-122.91310169999997 47.01359260000004)   \n",
       "1   POINT (-122.35936399999997 47.97965520000008)   \n",
       "2   POINT (-122.09150499999998 47.91555500000004)   \n",
       "3  POINT (-122.32981499999994 47.579810000000066)   \n",
       "4            POINT (-122.37507 47.80807000000004)   \n",
       "\n",
       "                               Electric Utility  2020 Census Tract  \n",
       "0                        PUGET SOUND ENERGY INC       5.306701e+10  \n",
       "1                        PUGET SOUND ENERGY INC       5.302997e+10  \n",
       "2                        PUGET SOUND ENERGY INC       5.306105e+10  \n",
       "3  CITY OF SEATTLE - (WA)|CITY OF TACOMA - (WA)       5.303301e+10  \n",
       "4                        PUGET SOUND ENERGY INC       5.306105e+10  "
      ]
     },
     "execution_count": 3,
     "metadata": {},
     "output_type": "execute_result"
    }
   ],
   "source": [
    "df.head()"
   ]
  },
  {
   "cell_type": "code",
   "execution_count": 4,
   "id": "e7d7a3f7",
   "metadata": {},
   "outputs": [
    {
     "name": "stdout",
     "output_type": "stream",
     "text": [
      "<class 'pandas.core.frame.DataFrame'>\n",
      "RangeIndex: 135038 entries, 0 to 135037\n",
      "Data columns (total 17 columns):\n",
      " #   Column                                             Non-Null Count   Dtype  \n",
      "---  ------                                             --------------   -----  \n",
      " 0   VIN (1-10)                                         135038 non-null  object \n",
      " 1   County                                             135030 non-null  object \n",
      " 2   City                                               135030 non-null  object \n",
      " 3   State                                              135038 non-null  object \n",
      " 4   Postal Code                                        135030 non-null  float64\n",
      " 5   Model Year                                         135038 non-null  int64  \n",
      " 6   Make                                               135038 non-null  object \n",
      " 7   Model                                              134789 non-null  object \n",
      " 8   Electric Vehicle Type                              135038 non-null  object \n",
      " 9   Clean Alternative Fuel Vehicle (CAFV) Eligibility  135038 non-null  object \n",
      " 10  Electric Range                                     135037 non-null  float64\n",
      " 11  Base MSRP                                          135037 non-null  float64\n",
      " 12  Legislative District                               134726 non-null  float64\n",
      " 13  DOL Vehicle ID                                     135038 non-null  int64  \n",
      " 14  Vehicle Location                                   135028 non-null  object \n",
      " 15  Electric Utility                                   135030 non-null  object \n",
      " 16  2020 Census Tract                                  135030 non-null  float64\n",
      "dtypes: float64(5), int64(2), object(10)\n",
      "memory usage: 17.5+ MB\n"
     ]
    }
   ],
   "source": [
    "df.info()   # get information of the data"
   ]
  },
  {
   "cell_type": "markdown",
   "id": "b7fd9fc6",
   "metadata": {},
   "source": [
    "#### Get all the cars and their types that do not qualify for clean alternative fuel vehicle"
   ]
  },
  {
   "cell_type": "code",
   "execution_count": 6,
   "id": "a589e224",
   "metadata": {},
   "outputs": [
    {
     "data": {
      "text/plain": [
       "Clean Alternative Fuel Vehicle Eligible                         61221\n",
       "Eligibility unknown as battery range has not been researched    56983\n",
       "Not eligible due to low battery range                           16834\n",
       "Name: Clean Alternative Fuel Vehicle (CAFV) Eligibility, dtype: int64"
      ]
     },
     "execution_count": 6,
     "metadata": {},
     "output_type": "execute_result"
    }
   ],
   "source": [
    "df['Clean Alternative Fuel Vehicle (CAFV) Eligibility'].value_counts()  # get values count of feature"
   ]
  },
  {
   "cell_type": "code",
   "execution_count": 7,
   "id": "97f3ac61",
   "metadata": {},
   "outputs": [
    {
     "name": "stdout",
     "output_type": "stream",
     "text": [
      "Cars and their types that do not qualify for clean alternative fuel vehicle:\n",
      "           Make        Model\n",
      "1        NISSAN         LEAF\n",
      "7          AUDI         Q5 E\n",
      "8        TOYOTA  PRIUS PRIME\n",
      "12          KIA         NIRO\n",
      "20         AUDI         Q5 E\n",
      "...         ...          ...\n",
      "135031    TESLA      MODEL Y\n",
      "135034    TESLA      MODEL Y\n",
      "135035    TESLA      MODEL S\n",
      "135036  HYUNDAI      IONIQ 5\n",
      "135037     FORD        C-MAX\n",
      "\n",
      "[73817 rows x 2 columns]\n"
     ]
    }
   ],
   "source": [
    "non_clean_cars = df[df['Clean Alternative Fuel Vehicle (CAFV) Eligibility'] != 'Clean Alternative Fuel Vehicle Eligible']\n",
    "non_clean_cars_data = non_clean_cars[['Make', 'Model']]  #Get all the cars and their types that do not qualify \n",
    "                                                              #for clean alternative fuel vehicle\n",
    "print(\"Cars and their types that do not qualify for clean alternative fuel vehicle:\")\n",
    "print(non_clean_cars_data)"
   ]
  },
  {
   "cell_type": "markdown",
   "id": "97aca8e9",
   "metadata": {},
   "source": [
    "#### Get all TESLA cars with the model year, and model type made in Bothell City."
   ]
  },
  {
   "cell_type": "code",
   "execution_count": 9,
   "id": "f5ed4606",
   "metadata": {},
   "outputs": [
    {
     "name": "stdout",
     "output_type": "stream",
     "text": [
      "\n",
      "TESLA cars with the model year, and model type made in Bothell City:\n",
      "        Model Year    Model\n",
      "11            2020  MODEL Y\n",
      "18            2020  MODEL Y\n",
      "69            2018  MODEL 3\n",
      "72            2018  MODEL 3\n",
      "88            2017  MODEL S\n",
      "...            ...      ...\n",
      "134951        2019  MODEL 3\n",
      "134999        2020  MODEL S\n",
      "135005        2022  MODEL Y\n",
      "135012        2021  MODEL Y\n",
      "135021        2022  MODEL Y\n",
      "\n",
      "[2548 rows x 2 columns]\n"
     ]
    }
   ],
   "source": [
    "tesla_cars_bothell = df[(df['Make'] == 'TESLA') & (df['City'] == 'Bothell')]   # filtering the for reuired condition\n",
    "tesla_cars_bothell_data = tesla_cars_bothell[['Model Year', 'Model']]\n",
    "print(\"\\nTESLA cars with the model year, and model type made in Bothell City:\")\n",
    "print(tesla_cars_bothell_data)  #Get all TESLA cars with the model year, and model type made in Bothell City."
   ]
  },
  {
   "cell_type": "markdown",
   "id": "0ea95890",
   "metadata": {},
   "source": [
    "#### Get all the cars that have an electric range of more than 100, and were made after 2015"
   ]
  },
  {
   "cell_type": "code",
   "execution_count": 8,
   "id": "6283e338",
   "metadata": {},
   "outputs": [
    {
     "name": "stdout",
     "output_type": "stream",
     "text": [
      "\n",
      "Cars with an electric range of more than 100 and made after 2015:\n",
      "          Make    Model\n",
      "0        TESLA  MODEL X\n",
      "2        TESLA  MODEL 3\n",
      "4        TESLA  MODEL S\n",
      "12       TESLA  MODEL 3\n",
      "13       TESLA  MODEL 3\n",
      "...        ...      ...\n",
      "130417   TESLA  MODEL Y\n",
      "130428  NISSAN     LEAF\n",
      "130432   TESLA  MODEL Y\n",
      "130436   TESLA  MODEL 3\n",
      "130441   TESLA  MODEL X\n",
      "\n",
      "[34066 rows x 2 columns]\n"
     ]
    }
   ],
   "source": [
    "electric_cars_100_range = df[(df['Electric Range'] > 100) & (df['Model Year'] > 2015)]# filtering the for reuired condition\n",
    "electric_cars_100_range_data = electric_cars_100_range[['Make', 'Model']]\n",
    "print(\"\\nCars with an electric range of more than 100 and made after 2015:\")\n",
    "print(electric_cars_100_range_data) # Get all the cars that have an electric range of more than 100, and were made after 2015"
   ]
  },
  {
   "cell_type": "markdown",
   "id": "19f4bfc0",
   "metadata": {},
   "source": [
    "#### Draw plots to show the distribution between city and electric vehicle type"
   ]
  },
  {
   "cell_type": "code",
   "execution_count": 9,
   "id": "700bef73",
   "metadata": {},
   "outputs": [
    {
     "data": {
      "image/png": "[encoded data removed]",
      "text/plain": [
       "<Figure size 640x480 with 1 Axes>"
      ]
     },
     "metadata": {},
     "output_type": "display_data"
    }
   ],
   "source": [
    "# Draw plots to show the distribution between city and electric vehicle type\n",
    "elv =  df.loc[:,[\"City\",\"Electric Vehicle Type\"]]\n",
    "counts = elv.groupby(['City', 'Electric Vehicle Type']).size().unstack()[:20]     # use group_by function to get count \n",
    "\n",
    "counts.plot(kind='bar', stacked=True)   # Create a bar plot\n",
    "plt.xlabel('City')\n",
    "plt.ylabel('Count')\n",
    "plt.title('Distribution of Electric Vehicle Types in Cities')\n",
    "plt.legend(title='Electric Vehicle Type')\n",
    "plt.show()"
   ]
  },
  {
   "cell_type": "code",
   "execution_count": null,
   "id": "71a62361",
   "metadata": {},
   "outputs": [],
   "source": []
  }
 ],
 "metadata": {
  "kernelspec": {
   "display_name": "Python 3 (ipykernel)",
   "language": "python",
   "name": "python3"
  },
  "language_info": {
   "codemirror_mode": {
    "name": "ipython",
    "version": 3
   },
   "file_extension": ".py",
   "mimetype": "text/x-python",
   "name": "python",
   "nbconvert_exporter": "python",
   "pygments_lexer": "ipython3",
   "version": "3.9.13"
  }
 },
 "nbformat": 4,
 "nbformat_minor": 5
}
