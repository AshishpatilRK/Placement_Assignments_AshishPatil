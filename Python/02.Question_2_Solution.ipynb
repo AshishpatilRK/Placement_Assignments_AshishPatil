{
 "cells": [
  {
   "cell_type": "markdown",
   "id": "63e609e5",
   "metadata": {},
   "source": [
    "# Question 2"
   ]
  },
  {
   "cell_type": "markdown",
   "id": "34d2e75b",
   "metadata": {},
   "source": [
    "#### Consider a string to be valid if all characters of the string appear the same number of times. It is also valid if he can remove just one character at the index in the string, and the remaining characters will occur the same number of times. Given a string, determine if it is valid. If so, return YES , otherwise return NO .\n",
    "#### Note - You have to write at least 2 additional test cases in which your program will run successfully and provide an explanation for the same.\n",
    "#### Example input 1 - s = “abc”. This is a valid string because frequencies are { “a”: 1, “b”: 1, “c”: 1 }\n",
    "#### Example output 1- YES\n",
    "#### Example input 2 - s “abcc”. This string is not valid as we can remove only 1 occurrence of “c”. That leaves character frequencies of { “a”: 1, “b”: 1 , “c”: 2 }\n",
    "#### Example output 2 - NO"
   ]
  },
  {
   "cell_type": "markdown",
   "id": "021517c8",
   "metadata": {},
   "source": [
    "### Ans"
   ]
  },
  {
   "cell_type": "code",
   "execution_count": 1,
   "id": "1eae2212",
   "metadata": {},
   "outputs": [],
   "source": [
    "def valid_str(str):\n",
    "  freq={}   # Create a dictionary \n",
    "\n",
    "  for char in str:           # Count the frequency of each word\n",
    "            if char in freq:\n",
    "                freq[char] += 1\n",
    "            else:\n",
    "                freq[char] = 1\n",
    "                \n",
    "  freq_v = list(freq.values())\n",
    "\n",
    "  freq_cnts = set(freq_v)      #convert the list into a set\n",
    "\n",
    "  if(len(freq_cnts)==1):      #if the set length is 1 the string is valid\n",
    "      print(\"YES\")\n",
    "  else:\n",
    "      freq_d = {} \n",
    "\n",
    "      for item in freq_v:     #build a dictionary\n",
    "        if (item in freq_d): \n",
    "          freq_d[item] += 1\n",
    "        else: \n",
    "          freq_d[item] = 1\n",
    "        \n",
    "      Values_ = list(freq_d.values())   #convert the values and keys into lists\n",
    "      Keys_ = list(freq_d.keys())\n",
    "      \n",
    "      if(len(Values_) == 2):           #if there are only 2 counts, check further, otherwise it's invalid\n",
    "        if( (Keys_[1] - Keys_[0] <= 1) and (Values_[1] == 1)):   #if you can remove 1 char from 1 index, \n",
    "          print(\"YES\")                                               # it's met the special case\n",
    "        else:\n",
    "          print(\"NO\")\n",
    "      else:\n",
    "        print(\"NO\")"
   ]
  },
  {
   "cell_type": "code",
   "execution_count": 2,
   "id": "aa59d17b",
   "metadata": {},
   "outputs": [
    {
     "name": "stdout",
     "output_type": "stream",
     "text": [
      "YES\n"
     ]
    }
   ],
   "source": [
    "valid_str(\"abc\")"
   ]
  },
  {
   "cell_type": "markdown",
   "id": "9ae9803e",
   "metadata": {},
   "source": [
    "#### Explanation - \n",
    "       This is a valid string because frequencies are { “a”: 1, “b”: 1, “c”: 1 }"
   ]
  },
  {
   "cell_type": "code",
   "execution_count": 3,
   "id": "bcd25c5e",
   "metadata": {},
   "outputs": [
    {
     "name": "stdout",
     "output_type": "stream",
     "text": [
      "YES\n"
     ]
    }
   ],
   "source": [
    "valid_str(\"abcc\")"
   ]
  },
  {
   "cell_type": "markdown",
   "id": "a0a0f19b",
   "metadata": {},
   "source": [
    "#### Explanation - \n",
    "         This string is valid as we can remove only 1 occurrence of “c”. That leaves character frequencies of { “a”: 1, “b”: 1 , “c”: 1 }."
   ]
  },
  {
   "cell_type": "code",
   "execution_count": 4,
   "id": "c6869623",
   "metadata": {},
   "outputs": [
    {
     "name": "stdout",
     "output_type": "stream",
     "text": [
      "NO\n"
     ]
    }
   ],
   "source": [
    "valid_str(\"abccc\")"
   ]
  },
  {
   "cell_type": "markdown",
   "id": "4307942d",
   "metadata": {},
   "source": [
    "#### Explanation - \n",
    "         This string is not valid as we can remove only 1 occurrence of “c”. That leaves character frequencies of { “a”: 1, “b”: 1 , “c”: 2 }."
   ]
  },
  {
   "cell_type": "code",
   "execution_count": 5,
   "id": "2e0c7b98",
   "metadata": {},
   "outputs": [
    {
     "name": "stdout",
     "output_type": "stream",
     "text": [
      "NO\n"
     ]
    }
   ],
   "source": [
    "valid_str(\"aabbcd\")"
   ]
  },
  {
   "cell_type": "markdown",
   "id": "a8d6f03a",
   "metadata": {},
   "source": [
    "#### Explanation - \n",
    "         This string is not valid as we can remove  “c” or \"d\". That leaves character frequencies of { “a”: 2, “b”: 2 , “c”: 1}."
   ]
  },
  {
   "cell_type": "code",
   "execution_count": 6,
   "id": "08dcce09",
   "metadata": {},
   "outputs": [
    {
     "name": "stdout",
     "output_type": "stream",
     "text": [
      "YES\n"
     ]
    }
   ],
   "source": [
    "valid_str(\"abcdeedcbae\")"
   ]
  },
  {
   "cell_type": "markdown",
   "id": "8de01c35",
   "metadata": {},
   "source": [
    "#### Explanation - \n",
    "         This string is valid as we can remove only 1 occurrence of “e”. That leaves character frequencies of { “a”: 2, “b”: 2 , “c”: 2, \"d\": 2, \"e\": 2 }."
   ]
  },
  {
   "cell_type": "code",
   "execution_count": null,
   "id": "4da6ba29",
   "metadata": {},
   "outputs": [],
   "source": []
  }
 ],
 "metadata": {
  "kernelspec": {
   "display_name": "Python 3 (ipykernel)",
   "language": "python",
   "name": "python3"
  },
  "language_info": {
   "codemirror_mode": {
    "name": "ipython",
    "version": 3
   },
   "file_extension": ".py",
   "mimetype": "text/x-python",
   "name": "python",
   "nbconvert_exporter": "python",
   "pygments_lexer": "ipython3",
   "version": "3.9.13"
  }
 },
 "nbformat": 4,
 "nbformat_minor": 5
}
