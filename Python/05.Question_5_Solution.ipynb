{
 "cells": [
  {
   "cell_type": "markdown",
   "id": "169c0e55",
   "metadata": {},
   "source": [
    "# Question 5"
   ]
  },
  {
   "cell_type": "markdown",
   "id": "85c78613",
   "metadata": {},
   "source": [
    "Write a program to download the data from the given API link and then extract the following data with\n",
    "proper formatting"
   ]
  },
  {
   "cell_type": "markdown",
   "id": "fda1d45e",
   "metadata": {},
   "source": [
    "    Excepted Output Data Attributes -\n",
    "    ● id - int url - string\n",
    "    ● name - string season\n",
    "    ● - int number - int\n",
    "    ● type - string airdate -\n",
    "    ● date format airtime -\n",
    "    ● 12-hour time format\n",
    "    ● runtime - float\n",
    "    ● average rating - float\n",
    "    ● summary - string\n",
    "    ● without html tags\n",
    "    ● medium image link - string\n",
    "    ● Original image link - string"
   ]
  },
  {
   "cell_type": "markdown",
   "id": "27909fdc",
   "metadata": {},
   "source": [
    "DataLink - http://api.tvmaze.com/singlesearch/shows?q=westworld&embed=episodes"
   ]
  },
  {
   "cell_type": "code",
   "execution_count": 2,
   "id": "a25d539c",
   "metadata": {},
   "outputs": [],
   "source": [
    "# importing neccesary libraries\n",
    "import requests   # send HTTP request\n",
    "import csv      # making csv file\n",
    "import pandas as pd   # data reading\n",
    "import json     # get json data"
   ]
  },
  {
   "cell_type": "code",
   "execution_count": 3,
   "id": "7e27b795",
   "metadata": {},
   "outputs": [],
   "source": [
    "api_link = \"http://api.tvmaze.com/singlesearch/shows?q=westworld&embed=episodes\"  # url\n",
    "response = requests.get(api_link)         # get json data from url\n",
    "response.status_code == 200             # give code to extract data\n",
    "json_data = response.json()          # get data "
   ]
  },
  {
   "cell_type": "code",
   "execution_count": 4,
   "id": "126a7f4a",
   "metadata": {},
   "outputs": [],
   "source": [
    "show_data = json_data\n",
    "episode_data = show_data.get('_embedded', {}).get('episodes', [])  # getting data in  _embedded' json \n",
    "\n",
    "extracted_data = []            # get data in proper format with headers as features\n",
    "for episode in episode_data:\n",
    "        extracted_data.append({\n",
    "            'id': episode.get('id', ''),\n",
    "            'url': episode.get('url', ''),\n",
    "            'name': episode.get ('name', ''),\n",
    "            'season number': episode.get('season', ''),\n",
    "            'episode number': episode.get('number', ''),\n",
    "            'type': episode.get('type', ''),\n",
    "            'airdate': episode.get('airdate', ''),\n",
    "            'airtime': episode.get('airtime', ''),\n",
    "            'runtime': episode.get('runtime', ''),\n",
    "            'average rating': episode.get('rating', {}).get('average', ''),\n",
    "            'summary': episode.get('summary', '').replace('<p>', '').replace('</p>', ''),\n",
    "            'medium image link': episode.get('image', {}).get('medium', ''),\n",
    "            'original image link': episode.get('image', {}).get('original', '')\n",
    "        })"
   ]
  },
  {
   "cell_type": "code",
   "execution_count": 5,
   "id": "7c7b4202",
   "metadata": {},
   "outputs": [],
   "source": [
    "def save_to_csv(data, output_file):    # Function to save structured data as CSV\n",
    "    fieldnames = data[0].keys()\n",
    "    with open(output_file, 'w', newline='', encoding='utf-8') as csvfile:    #  writig data as in csv file\n",
    "        writer = csv.DictWriter(csvfile, fieldnames=fieldnames)\n",
    "        writer.writeheader()\n",
    "        writer.writerows(data)"
   ]
  },
  {
   "cell_type": "code",
   "execution_count": 6,
   "id": "52a2825f",
   "metadata": {},
   "outputs": [
    {
     "name": "stdout",
     "output_type": "stream",
     "text": [
      "Data saved to westworld_episodes.csv\n"
     ]
    }
   ],
   "source": [
    "output_file = \"westworld_episodes.csv\"    \n",
    "save_to_csv(extracted_data, output_file)   # Save the extracted data in a CSV file\n",
    "print(\"Data saved to\", output_file)"
   ]
  },
  {
   "cell_type": "code",
   "execution_count": 7,
   "id": "f84bd1d3",
   "metadata": {},
   "outputs": [
    {
     "data": {
      "text/html": [
       "<div>\n",
       "<style scoped>\n",
       "    .dataframe tbody tr th:only-of-type {\n",
       "        vertical-align: middle;\n",
       "    }\n",
       "\n",
       "    .dataframe tbody tr th {\n",
       "        vertical-align: top;\n",
       "    }\n",
       "\n",
       "    .dataframe thead th {\n",
       "        text-align: right;\n",
       "    }\n",
       "</style>\n",
       "<table border=\"1\" class=\"dataframe\">\n",
       "  <thead>\n",
       "    <tr style=\"text-align: right;\">\n",
       "      <th></th>\n",
       "      <th>id</th>\n",
       "      <th>url</th>\n",
       "      <th>name</th>\n",
       "      <th>season number</th>\n",
       "      <th>episode number</th>\n",
       "      <th>type</th>\n",
       "      <th>airdate</th>\n",
       "      <th>airtime</th>\n",
       "      <th>runtime</th>\n",
       "      <th>average rating</th>\n",
       "      <th>summary</th>\n",
       "      <th>medium image link</th>\n",
       "      <th>original image link</th>\n",
       "    </tr>\n",
       "  </thead>\n",
       "  <tbody>\n",
       "    <tr>\n",
       "      <th>0</th>\n",
       "      <td>869671</td>\n",
       "      <td>https://www.tvmaze.com/episodes/869671/westwor...</td>\n",
       "      <td>The Original</td>\n",
       "      <td>1</td>\n",
       "      <td>1</td>\n",
       "      <td>regular</td>\n",
       "      <td>2016-10-02</td>\n",
       "      <td>21:00</td>\n",
       "      <td>68</td>\n",
       "      <td>8.0</td>\n",
       "      <td>A woman named Dolores is a free spirit in the ...</td>\n",
       "      <td>https://static.tvmaze.com/uploads/images/mediu...</td>\n",
       "      <td>https://static.tvmaze.com/uploads/images/origi...</td>\n",
       "    </tr>\n",
       "    <tr>\n",
       "      <th>1</th>\n",
       "      <td>911201</td>\n",
       "      <td>https://www.tvmaze.com/episodes/911201/westwor...</td>\n",
       "      <td>Chestnut</td>\n",
       "      <td>1</td>\n",
       "      <td>2</td>\n",
       "      <td>regular</td>\n",
       "      <td>2016-10-09</td>\n",
       "      <td>21:00</td>\n",
       "      <td>60</td>\n",
       "      <td>7.7</td>\n",
       "      <td>Bernard suspects that someone is sabotaging th...</td>\n",
       "      <td>https://static.tvmaze.com/uploads/images/mediu...</td>\n",
       "      <td>https://static.tvmaze.com/uploads/images/origi...</td>\n",
       "    </tr>\n",
       "    <tr>\n",
       "      <th>2</th>\n",
       "      <td>911204</td>\n",
       "      <td>https://www.tvmaze.com/episodes/911204/westwor...</td>\n",
       "      <td>The Stray</td>\n",
       "      <td>1</td>\n",
       "      <td>3</td>\n",
       "      <td>regular</td>\n",
       "      <td>2016-10-16</td>\n",
       "      <td>21:00</td>\n",
       "      <td>60</td>\n",
       "      <td>7.6</td>\n",
       "      <td>Bernard continues to investigate Dolores' supp...</td>\n",
       "      <td>https://static.tvmaze.com/uploads/images/mediu...</td>\n",
       "      <td>https://static.tvmaze.com/uploads/images/origi...</td>\n",
       "    </tr>\n",
       "    <tr>\n",
       "      <th>3</th>\n",
       "      <td>911205</td>\n",
       "      <td>https://www.tvmaze.com/episodes/911205/westwor...</td>\n",
       "      <td>Dissonance Theory</td>\n",
       "      <td>1</td>\n",
       "      <td>4</td>\n",
       "      <td>regular</td>\n",
       "      <td>2016-10-23</td>\n",
       "      <td>21:00</td>\n",
       "      <td>60</td>\n",
       "      <td>7.9</td>\n",
       "      <td>While Dolores joins William and Logan on their...</td>\n",
       "      <td>https://static.tvmaze.com/uploads/images/mediu...</td>\n",
       "      <td>https://static.tvmaze.com/uploads/images/origi...</td>\n",
       "    </tr>\n",
       "    <tr>\n",
       "      <th>4</th>\n",
       "      <td>927174</td>\n",
       "      <td>https://www.tvmaze.com/episodes/927174/westwor...</td>\n",
       "      <td>Contrapasso</td>\n",
       "      <td>1</td>\n",
       "      <td>5</td>\n",
       "      <td>regular</td>\n",
       "      <td>2016-10-30</td>\n",
       "      <td>21:00</td>\n",
       "      <td>60</td>\n",
       "      <td>8.0</td>\n",
       "      <td>Dolores takes the first step on her path of di...</td>\n",
       "      <td>https://static.tvmaze.com/uploads/images/mediu...</td>\n",
       "      <td>https://static.tvmaze.com/uploads/images/origi...</td>\n",
       "    </tr>\n",
       "  </tbody>\n",
       "</table>\n",
       "</div>"
      ],
      "text/plain": [
       "       id                                                url  \\\n",
       "0  869671  https://www.tvmaze.com/episodes/869671/westwor...   \n",
       "1  911201  https://www.tvmaze.com/episodes/911201/westwor...   \n",
       "2  911204  https://www.tvmaze.com/episodes/911204/westwor...   \n",
       "3  911205  https://www.tvmaze.com/episodes/911205/westwor...   \n",
       "4  927174  https://www.tvmaze.com/episodes/927174/westwor...   \n",
       "\n",
       "                name  season number  episode number     type     airdate  \\\n",
       "0       The Original              1               1  regular  2016-10-02   \n",
       "1           Chestnut              1               2  regular  2016-10-09   \n",
       "2          The Stray              1               3  regular  2016-10-16   \n",
       "3  Dissonance Theory              1               4  regular  2016-10-23   \n",
       "4        Contrapasso              1               5  regular  2016-10-30   \n",
       "\n",
       "  airtime  runtime  average rating  \\\n",
       "0   21:00       68             8.0   \n",
       "1   21:00       60             7.7   \n",
       "2   21:00       60             7.6   \n",
       "3   21:00       60             7.9   \n",
       "4   21:00       60             8.0   \n",
       "\n",
       "                                             summary  \\\n",
       "0  A woman named Dolores is a free spirit in the ...   \n",
       "1  Bernard suspects that someone is sabotaging th...   \n",
       "2  Bernard continues to investigate Dolores' supp...   \n",
       "3  While Dolores joins William and Logan on their...   \n",
       "4  Dolores takes the first step on her path of di...   \n",
       "\n",
       "                                   medium image link  \\\n",
       "0  https://static.tvmaze.com/uploads/images/mediu...   \n",
       "1  https://static.tvmaze.com/uploads/images/mediu...   \n",
       "2  https://static.tvmaze.com/uploads/images/mediu...   \n",
       "3  https://static.tvmaze.com/uploads/images/mediu...   \n",
       "4  https://static.tvmaze.com/uploads/images/mediu...   \n",
       "\n",
       "                                 original image link  \n",
       "0  https://static.tvmaze.com/uploads/images/origi...  \n",
       "1  https://static.tvmaze.com/uploads/images/origi...  \n",
       "2  https://static.tvmaze.com/uploads/images/origi...  \n",
       "3  https://static.tvmaze.com/uploads/images/origi...  \n",
       "4  https://static.tvmaze.com/uploads/images/origi...  "
      ]
     },
     "execution_count": 7,
     "metadata": {},
     "output_type": "execute_result"
    }
   ],
   "source": [
    "df=pd.read_csv('westworld_episodes.csv')  # read csv file\n",
    "df.head()   # get 1st five rows"
   ]
  },
  {
   "cell_type": "code",
   "execution_count": null,
   "id": "d9f3f2c9",
   "metadata": {},
   "outputs": [],
   "source": []
  },
  {
   "cell_type": "code",
   "execution_count": null,
   "id": "62be8c9a",
   "metadata": {},
   "outputs": [],
   "source": []
  }
 ],
 "metadata": {
  "kernelspec": {
   "display_name": "Python 3 (ipykernel)",
   "language": "python",
   "name": "python3"
  },
  "language_info": {
   "codemirror_mode": {
    "name": "ipython",
    "version": 3
   },
   "file_extension": ".py",
   "mimetype": "text/x-python",
   "name": "python",
   "nbconvert_exporter": "python",
   "pygments_lexer": "ipython3",
   "version": "3.9.13"
  }
 },
 "nbformat": 4,
 "nbformat_minor": 5
}
