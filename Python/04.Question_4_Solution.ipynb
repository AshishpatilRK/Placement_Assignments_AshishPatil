{
 "cells": [
  {
   "cell_type": "markdown",
   "id": "94771180",
   "metadata": {},
   "source": [
    "# Question 4"
   ]
  },
  {
   "cell_type": "markdown",
   "id": "db306789",
   "metadata": {},
   "source": [
    "Write a program to download the data from the link given below and then read the data and convert the into\n",
    "the proper structure and return it as a CSV file."
   ]
  },
  {
   "cell_type": "markdown",
   "id": "b540b89f",
   "metadata": {},
   "source": [
    "    Sample Data -\n",
    "    Excepted Output Data Attributes\n",
    "    ● Name of Earth Meteorite - string id - ID of Earth\n",
    "    ● Meteorite - int nametype - string recclass - string\n",
    "    ● mass - Mass of Earth Meteorite - float year - Year at which Earth\n",
    "    ● Meteorite was hit - datetime format reclat - float recclong - float\n",
    "    ● point coordinates - list of int"
   ]
  },
  {
   "cell_type": "markdown",
   "id": "dca13561",
   "metadata": {},
   "source": [
    "DataLink - https://data.nasa.gov/resource/y77d-th95.json"
   ]
  },
  {
   "cell_type": "code",
   "execution_count": 2,
   "id": "7a696ca3",
   "metadata": {},
   "outputs": [],
   "source": [
    "# importing neccesary libraries\n",
    "import requests    # send HTTP request\n",
    "import csv   # making csv file\n",
    "import pandas as pd    # data reading\n",
    "import json    # get json data"
   ]
  },
  {
   "cell_type": "code",
   "execution_count": 3,
   "id": "62e52889",
   "metadata": {},
   "outputs": [],
   "source": [
    "url = \"https://data.nasa.gov/resource/y77d-th95.json\"  #url\n",
    "response = requests.get(url)  # get json data from url\n",
    "response.status_code == 200   # give code to extract data\n",
    "json_data = response.json()   # get data "
   ]
  },
  {
   "cell_type": "code",
   "execution_count": 4,
   "id": "0bc915cf",
   "metadata": {},
   "outputs": [],
   "source": [
    "structured_data = []                # get data in proper format with headers as features\n",
    "for item in json_data:\n",
    "        structured_data.append({\n",
    "        'name':item.get('name'),\n",
    "        'id':item.get('id'),\n",
    "        'nametype':item.get('nametype'),\n",
    "        'recclass':item.get('recclass'),\n",
    "        'mass':float(item.get('mass',0)),\n",
    "        'fall':item.get('fall'),\n",
    "        'year':item.get('year', '')[:10],\n",
    "        'reclat':float(item.get('reclat',0)),\n",
    "        'reclong': float(item.get('reclong', 0.0)),\n",
    "        'coordinates':[float(item.get('reclong', 0.0)), float(item.get('reclat', 0.0))]\n",
    "        \n",
    "    })"
   ]
  },
  {
   "cell_type": "code",
   "execution_count": 6,
   "id": "7139ebaa",
   "metadata": {},
   "outputs": [],
   "source": [
    "def save_to_csv(data, output_file):                 # Function to save structured data as CSV\n",
    "    fieldnames = data[0].keys()\n",
    "    with open(output_file, 'w', newline='',encoding=\"utf-8\") as csvfile:  #  writig data as in csv file\n",
    "        writer = csv.DictWriter(csvfile, fieldnames=fieldnames)\n",
    "        writer.writeheader()\n",
    "        writer.writerows(data)"
   ]
  },
  {
   "cell_type": "code",
   "execution_count": 7,
   "id": "54fc322c",
   "metadata": {},
   "outputs": [
    {
     "name": "stdout",
     "output_type": "stream",
     "text": [
      "Data saved to nasa_meteorite_data.csv\n"
     ]
    }
   ],
   "source": [
    "\n",
    "output_file = \"nasa_meteorite_data.csv\"   # csv file\n",
    "save_to_csv(structured_data, output_file)    # save structured data as CSV\n",
    "print(\"Data saved to\", output_file)"
   ]
  },
  {
   "cell_type": "code",
   "execution_count": 10,
   "id": "4f88e72a",
   "metadata": {},
   "outputs": [
    {
     "data": {
      "text/html": [
       "<div>\n",
       "<style scoped>\n",
       "    .dataframe tbody tr th:only-of-type {\n",
       "        vertical-align: middle;\n",
       "    }\n",
       "\n",
       "    .dataframe tbody tr th {\n",
       "        vertical-align: top;\n",
       "    }\n",
       "\n",
       "    .dataframe thead th {\n",
       "        text-align: right;\n",
       "    }\n",
       "</style>\n",
       "<table border=\"1\" class=\"dataframe\">\n",
       "  <thead>\n",
       "    <tr style=\"text-align: right;\">\n",
       "      <th></th>\n",
       "      <th>name</th>\n",
       "      <th>id</th>\n",
       "      <th>nametype</th>\n",
       "      <th>recclass</th>\n",
       "      <th>mass</th>\n",
       "      <th>fall</th>\n",
       "      <th>year</th>\n",
       "      <th>reclat</th>\n",
       "      <th>reclong</th>\n",
       "      <th>coordinates</th>\n",
       "    </tr>\n",
       "  </thead>\n",
       "  <tbody>\n",
       "    <tr>\n",
       "      <th>0</th>\n",
       "      <td>Aachen</td>\n",
       "      <td>1</td>\n",
       "      <td>Valid</td>\n",
       "      <td>L5</td>\n",
       "      <td>21.0</td>\n",
       "      <td>Fell</td>\n",
       "      <td>1880-01-01</td>\n",
       "      <td>50.77500</td>\n",
       "      <td>6.08333</td>\n",
       "      <td>[6.08333, 50.775]</td>\n",
       "    </tr>\n",
       "    <tr>\n",
       "      <th>1</th>\n",
       "      <td>Aarhus</td>\n",
       "      <td>2</td>\n",
       "      <td>Valid</td>\n",
       "      <td>H6</td>\n",
       "      <td>720.0</td>\n",
       "      <td>Fell</td>\n",
       "      <td>1951-01-01</td>\n",
       "      <td>56.18333</td>\n",
       "      <td>10.23333</td>\n",
       "      <td>[10.23333, 56.18333]</td>\n",
       "    </tr>\n",
       "    <tr>\n",
       "      <th>2</th>\n",
       "      <td>Abee</td>\n",
       "      <td>6</td>\n",
       "      <td>Valid</td>\n",
       "      <td>EH4</td>\n",
       "      <td>107000.0</td>\n",
       "      <td>Fell</td>\n",
       "      <td>1952-01-01</td>\n",
       "      <td>54.21667</td>\n",
       "      <td>-113.00000</td>\n",
       "      <td>[-113.0, 54.21667]</td>\n",
       "    </tr>\n",
       "    <tr>\n",
       "      <th>3</th>\n",
       "      <td>Acapulco</td>\n",
       "      <td>10</td>\n",
       "      <td>Valid</td>\n",
       "      <td>Acapulcoite</td>\n",
       "      <td>1914.0</td>\n",
       "      <td>Fell</td>\n",
       "      <td>1976-01-01</td>\n",
       "      <td>16.88333</td>\n",
       "      <td>-99.90000</td>\n",
       "      <td>[-99.9, 16.88333]</td>\n",
       "    </tr>\n",
       "    <tr>\n",
       "      <th>4</th>\n",
       "      <td>Achiras</td>\n",
       "      <td>370</td>\n",
       "      <td>Valid</td>\n",
       "      <td>L6</td>\n",
       "      <td>780.0</td>\n",
       "      <td>Fell</td>\n",
       "      <td>1902-01-01</td>\n",
       "      <td>-33.16667</td>\n",
       "      <td>-64.95000</td>\n",
       "      <td>[-64.95, -33.16667]</td>\n",
       "    </tr>\n",
       "  </tbody>\n",
       "</table>\n",
       "</div>"
      ],
      "text/plain": [
       "       name   id nametype     recclass      mass  fall        year    reclat  \\\n",
       "0    Aachen    1    Valid           L5      21.0  Fell  1880-01-01  50.77500   \n",
       "1    Aarhus    2    Valid           H6     720.0  Fell  1951-01-01  56.18333   \n",
       "2      Abee    6    Valid          EH4  107000.0  Fell  1952-01-01  54.21667   \n",
       "3  Acapulco   10    Valid  Acapulcoite    1914.0  Fell  1976-01-01  16.88333   \n",
       "4   Achiras  370    Valid           L6     780.0  Fell  1902-01-01 -33.16667   \n",
       "\n",
       "     reclong           coordinates  \n",
       "0    6.08333     [6.08333, 50.775]  \n",
       "1   10.23333  [10.23333, 56.18333]  \n",
       "2 -113.00000    [-113.0, 54.21667]  \n",
       "3  -99.90000     [-99.9, 16.88333]  \n",
       "4  -64.95000   [-64.95, -33.16667]  "
      ]
     },
     "execution_count": 10,
     "metadata": {},
     "output_type": "execute_result"
    }
   ],
   "source": [
    "df=pd.read_csv('nasa_meteorite_data.csv')    # read csv file\n",
    "df.head()   # get 1st five rows"
   ]
  },
  {
   "cell_type": "code",
   "execution_count": 5,
   "id": "9970cf58",
   "metadata": {},
   "outputs": [],
   "source": [
    "# df"
   ]
  },
  {
   "cell_type": "code",
   "execution_count": null,
   "id": "e37e3f78",
   "metadata": {},
   "outputs": [],
   "source": []
  }
 ],
 "metadata": {
  "kernelspec": {
   "display_name": "Python 3 (ipykernel)",
   "language": "python",
   "name": "python3"
  },
  "language_info": {
   "codemirror_mode": {
    "name": "ipython",
    "version": 3
   },
   "file_extension": ".py",
   "mimetype": "text/x-python",
   "name": "python",
   "nbconvert_exporter": "python",
   "pygments_lexer": "ipython3",
   "version": "3.9.13"
  }
 },
 "nbformat": 4,
 "nbformat_minor": 5
}
