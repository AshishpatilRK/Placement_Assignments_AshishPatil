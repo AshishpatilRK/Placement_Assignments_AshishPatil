{
 "cells": [
  {
   "cell_type": "markdown",
   "id": "8fbe591c",
   "metadata": {},
   "source": [
    "# Question 6"
   ]
  },
  {
   "cell_type": "markdown",
   "id": "c7b2e391",
   "metadata": {},
   "source": [
    "Using the data from Question 3, write code to analyze the data and answer the following questions.\n",
    "\n",
    "Note \n",
    "1.Draw plots to demonstrate the analysis for the following questions for better visualizations.\n",
    "2. Write code comments wherever required for code understanding."
   ]
  },
  {
   "cell_type": "markdown",
   "id": "cacfbf1d",
   "metadata": {},
   "source": [
    "        Insights to be drawn -\n",
    "        ● Get all Pokemons whose spawn rate is less than 5%\n",
    "        ● Get all Pokemons that have less than 4 weaknesses\n",
    "        ● Get all Pokemons that have no multipliers at all\n",
    "        ● Get all Pokemons that do not have more than 2 evolutions\n",
    "        ● Get all Pokemons whose spawn time is less than 300 seconds.\n",
    "        Note - spawn time format is \"05:32”, so assume “minute: second” format and perform the analysis.\n",
    "        ● Get all Pokemon who have more than two types of capabilities"
   ]
  },
  {
   "cell_type": "code",
   "execution_count": 2,
   "id": "7859bbc3",
   "metadata": {},
   "outputs": [],
   "source": [
    "# importing neccesary libraries\n",
    "import numpy as np    # send HTTP request\n",
    "import pandas as pd    # making csv file\n",
    "import matplotlib.pyplot as plt   # for data visualization\n",
    "import seaborn as sns   # for data visualization"
   ]
  },
  {
   "cell_type": "code",
   "execution_count": 3,
   "id": "fcdc7f7d",
   "metadata": {},
   "outputs": [
    {
     "data": {
      "text/html": [
       "<div>\n",
       "<style scoped>\n",
       "    .dataframe tbody tr th:only-of-type {\n",
       "        vertical-align: middle;\n",
       "    }\n",
       "\n",
       "    .dataframe tbody tr th {\n",
       "        vertical-align: top;\n",
       "    }\n",
       "\n",
       "    .dataframe thead th {\n",
       "        text-align: right;\n",
       "    }\n",
       "</style>\n",
       "<table border=\"1\" class=\"dataframe\">\n",
       "  <thead>\n",
       "    <tr style=\"text-align: right;\">\n",
       "      <th></th>\n",
       "      <th>id</th>\n",
       "      <th>num</th>\n",
       "      <th>name</th>\n",
       "      <th>img</th>\n",
       "      <th>type</th>\n",
       "      <th>height</th>\n",
       "      <th>weight</th>\n",
       "      <th>candy</th>\n",
       "      <th>candy_count</th>\n",
       "      <th>egg</th>\n",
       "      <th>spawn_chance</th>\n",
       "      <th>avg_spawns</th>\n",
       "      <th>spawn_time</th>\n",
       "      <th>multipliers</th>\n",
       "      <th>weakness</th>\n",
       "      <th>next_evolution</th>\n",
       "      <th>prev_evolution</th>\n",
       "    </tr>\n",
       "  </thead>\n",
       "  <tbody>\n",
       "    <tr>\n",
       "      <th>0</th>\n",
       "      <td>1</td>\n",
       "      <td>1</td>\n",
       "      <td>Bulbasaur</td>\n",
       "      <td>http://www.serebii.net/pokemongo/pokemon/001.png</td>\n",
       "      <td>Grass, Poison</td>\n",
       "      <td>0.71 m</td>\n",
       "      <td>6.9 kg</td>\n",
       "      <td>Bulbasaur Candy</td>\n",
       "      <td>25.0</td>\n",
       "      <td>2 km</td>\n",
       "      <td>0.690</td>\n",
       "      <td>69.0</td>\n",
       "      <td>20:00</td>\n",
       "      <td>1.58</td>\n",
       "      <td>Fire, Ice, Flying, Psychic</td>\n",
       "      <td>Ivysaur, Venusaur</td>\n",
       "      <td>NaN</td>\n",
       "    </tr>\n",
       "    <tr>\n",
       "      <th>1</th>\n",
       "      <td>2</td>\n",
       "      <td>2</td>\n",
       "      <td>Ivysaur</td>\n",
       "      <td>http://www.serebii.net/pokemongo/pokemon/002.png</td>\n",
       "      <td>Grass, Poison</td>\n",
       "      <td>0.99 m</td>\n",
       "      <td>13.0 kg</td>\n",
       "      <td>Bulbasaur Candy</td>\n",
       "      <td>100.0</td>\n",
       "      <td>Not in Eggs</td>\n",
       "      <td>0.042</td>\n",
       "      <td>4.2</td>\n",
       "      <td>07:00</td>\n",
       "      <td>1.2, 1.6</td>\n",
       "      <td>Fire, Ice, Flying, Psychic</td>\n",
       "      <td>Venusaur</td>\n",
       "      <td>Bulbasaur</td>\n",
       "    </tr>\n",
       "    <tr>\n",
       "      <th>2</th>\n",
       "      <td>3</td>\n",
       "      <td>3</td>\n",
       "      <td>Venusaur</td>\n",
       "      <td>http://www.serebii.net/pokemongo/pokemon/003.png</td>\n",
       "      <td>Grass, Poison</td>\n",
       "      <td>2.01 m</td>\n",
       "      <td>100.0 kg</td>\n",
       "      <td>Bulbasaur Candy</td>\n",
       "      <td>NaN</td>\n",
       "      <td>Not in Eggs</td>\n",
       "      <td>0.017</td>\n",
       "      <td>1.7</td>\n",
       "      <td>11:30</td>\n",
       "      <td>NaN</td>\n",
       "      <td>Fire, Ice, Flying, Psychic</td>\n",
       "      <td>NaN</td>\n",
       "      <td>Bulbasaur, Ivysaur</td>\n",
       "    </tr>\n",
       "    <tr>\n",
       "      <th>3</th>\n",
       "      <td>4</td>\n",
       "      <td>4</td>\n",
       "      <td>Charmander</td>\n",
       "      <td>http://www.serebii.net/pokemongo/pokemon/004.png</td>\n",
       "      <td>Fire</td>\n",
       "      <td>0.61 m</td>\n",
       "      <td>8.5 kg</td>\n",
       "      <td>Charmander Candy</td>\n",
       "      <td>25.0</td>\n",
       "      <td>2 km</td>\n",
       "      <td>0.253</td>\n",
       "      <td>25.3</td>\n",
       "      <td>08:45</td>\n",
       "      <td>1.65</td>\n",
       "      <td>Water, Ground, Rock</td>\n",
       "      <td>Charmeleon, Charizard</td>\n",
       "      <td>NaN</td>\n",
       "    </tr>\n",
       "    <tr>\n",
       "      <th>4</th>\n",
       "      <td>5</td>\n",
       "      <td>5</td>\n",
       "      <td>Charmeleon</td>\n",
       "      <td>http://www.serebii.net/pokemongo/pokemon/005.png</td>\n",
       "      <td>Fire</td>\n",
       "      <td>1.09 m</td>\n",
       "      <td>19.0 kg</td>\n",
       "      <td>Charmander Candy</td>\n",
       "      <td>100.0</td>\n",
       "      <td>Not in Eggs</td>\n",
       "      <td>0.012</td>\n",
       "      <td>1.2</td>\n",
       "      <td>19:00</td>\n",
       "      <td>1.79</td>\n",
       "      <td>Water, Ground, Rock</td>\n",
       "      <td>Charizard</td>\n",
       "      <td>Charmander</td>\n",
       "    </tr>\n",
       "  </tbody>\n",
       "</table>\n",
       "</div>"
      ],
      "text/plain": [
       "   id  num        name                                               img  \\\n",
       "0   1    1   Bulbasaur  http://www.serebii.net/pokemongo/pokemon/001.png   \n",
       "1   2    2     Ivysaur  http://www.serebii.net/pokemongo/pokemon/002.png   \n",
       "2   3    3    Venusaur  http://www.serebii.net/pokemongo/pokemon/003.png   \n",
       "3   4    4  Charmander  http://www.serebii.net/pokemongo/pokemon/004.png   \n",
       "4   5    5  Charmeleon  http://www.serebii.net/pokemongo/pokemon/005.png   \n",
       "\n",
       "            type  height    weight             candy  candy_count  \\\n",
       "0  Grass, Poison  0.71 m    6.9 kg   Bulbasaur Candy         25.0   \n",
       "1  Grass, Poison  0.99 m   13.0 kg   Bulbasaur Candy        100.0   \n",
       "2  Grass, Poison  2.01 m  100.0 kg   Bulbasaur Candy          NaN   \n",
       "3           Fire  0.61 m    8.5 kg  Charmander Candy         25.0   \n",
       "4           Fire  1.09 m   19.0 kg  Charmander Candy        100.0   \n",
       "\n",
       "           egg  spawn_chance  avg_spawns spawn_time multipliers  \\\n",
       "0         2 km         0.690        69.0      20:00        1.58   \n",
       "1  Not in Eggs         0.042         4.2      07:00    1.2, 1.6   \n",
       "2  Not in Eggs         0.017         1.7      11:30         NaN   \n",
       "3         2 km         0.253        25.3      08:45        1.65   \n",
       "4  Not in Eggs         0.012         1.2      19:00        1.79   \n",
       "\n",
       "                     weakness         next_evolution      prev_evolution  \n",
       "0  Fire, Ice, Flying, Psychic      Ivysaur, Venusaur                 NaN  \n",
       "1  Fire, Ice, Flying, Psychic               Venusaur           Bulbasaur  \n",
       "2  Fire, Ice, Flying, Psychic                    NaN  Bulbasaur, Ivysaur  \n",
       "3         Water, Ground, Rock  Charmeleon, Charizard                 NaN  \n",
       "4         Water, Ground, Rock              Charizard          Charmander  "
      ]
     },
     "execution_count": 3,
     "metadata": {},
     "output_type": "execute_result"
    }
   ],
   "source": [
    "df=pd.read_excel('pokemon_excel.xlsx')  # read csv file\n",
    "df.head()   # get 1st five rows"
   ]
  },
  {
   "cell_type": "code",
   "execution_count": 4,
   "id": "c59d52de",
   "metadata": {},
   "outputs": [
    {
     "data": {
      "text/plain": [
       "(151, 17)"
      ]
     },
     "execution_count": 4,
     "metadata": {},
     "output_type": "execute_result"
    }
   ],
   "source": [
    "df.shape   # getting shape of data inform of rows and columns(features)"
   ]
  },
  {
   "cell_type": "markdown",
   "id": "8b97ecc1",
   "metadata": {},
   "source": [
    "#### Get all Pokemons whose spawn rate is less than 5%"
   ]
  },
  {
   "cell_type": "code",
   "execution_count": 6,
   "id": "1a61d372",
   "metadata": {},
   "outputs": [],
   "source": [
    "pokemon_names= list(df[df['spawn_chance']<0.05]['name'])  # filtering data using required condition"
   ]
  },
  {
   "cell_type": "code",
   "execution_count": 7,
   "id": "50ade3c8",
   "metadata": {},
   "outputs": [
    {
     "data": {
      "text/plain": [
       "['Ivysaur',\n",
       " 'Venusaur',\n",
       " 'Charmeleon',\n",
       " 'Charizard',\n",
       " 'Wartortle',\n",
       " 'Blastoise',\n",
       " 'Butterfree',\n",
       " 'Raichu',\n",
       " 'Sandslash',\n",
       " 'Nidoqueen',\n",
       " 'Nidoking',\n",
       " 'Clefable',\n",
       " 'Ninetales',\n",
       " 'Wigglytuff',\n",
       " 'Vileplume',\n",
       " 'Dugtrio',\n",
       " 'Persian',\n",
       " 'Primeape',\n",
       " 'Arcanine',\n",
       " 'Poliwrath',\n",
       " 'Kadabra',\n",
       " 'Alakazam',\n",
       " 'Machoke',\n",
       " 'Machamp',\n",
       " 'Victreebel',\n",
       " 'Golem',\n",
       " 'Rapidash',\n",
       " 'Slowbro',\n",
       " 'Magneton',\n",
       " \"Farfetch'd\",\n",
       " 'Dewgong',\n",
       " 'Muk',\n",
       " 'Cloyster',\n",
       " 'Gengar',\n",
       " 'Electrode',\n",
       " 'Exeggutor',\n",
       " 'Marowak',\n",
       " 'Hitmonlee',\n",
       " 'Hitmonchan',\n",
       " 'Lickitung',\n",
       " 'Weezing',\n",
       " 'Rhydon',\n",
       " 'Chansey',\n",
       " 'Kangaskhan',\n",
       " 'Seadra',\n",
       " 'Starmie',\n",
       " 'Mr. Mime',\n",
       " 'Gyarados',\n",
       " 'Lapras',\n",
       " 'Ditto',\n",
       " 'Vaporeon',\n",
       " 'Jolteon',\n",
       " 'Flareon',\n",
       " 'Porygon',\n",
       " 'Omastar',\n",
       " 'Kabutops',\n",
       " 'Aerodactyl',\n",
       " 'Snorlax',\n",
       " 'Articuno',\n",
       " 'Zapdos',\n",
       " 'Moltres',\n",
       " 'Dragonair',\n",
       " 'Dragonite',\n",
       " 'Mewtwo',\n",
       " 'Mew']"
      ]
     },
     "execution_count": 7,
     "metadata": {},
     "output_type": "execute_result"
    }
   ],
   "source": [
    "pokemon_names  # Get all Pokemons whose spawn rate is less than 5%"
   ]
  },
  {
   "cell_type": "code",
   "execution_count": 8,
   "id": "ea045f19",
   "metadata": {},
   "outputs": [],
   "source": [
    "spawn_rate = df[df['spawn_chance'] < 0.05]  # filtering data using required condition"
   ]
  },
  {
   "cell_type": "code",
   "execution_count": 9,
   "id": "70115aab",
   "metadata": {},
   "outputs": [
    {
     "data": {
      "image/png": "[encoded data removed]",
      "text/plain": [
       "<Figure size 2500x800 with 1 Axes>"
      ]
     },
     "metadata": {},
     "output_type": "display_data"
    }
   ],
   "source": [
    "plt.figure(figsize=(25, 8))                   # Plot the Pokemon with spawn rate less than 5%\n",
    "plt.bar(spawn_rate['name'], spawn_rate['spawn_chance'], color = \"orange\")  #  bar plot\n",
    "plt.xlabel(\"Pokemon\")  # x label\n",
    "plt.ylabel(\"Spawn Rate\")  # y - label\n",
    "plt.title(\"Pokemon with Spawn Rate Less Than 5%\", fontsize = 20)  # title\n",
    "plt.xticks(rotation=90)\n",
    "plt.show()"
   ]
  },
  {
   "cell_type": "markdown",
   "id": "9225d89a",
   "metadata": {},
   "source": [
    "#### Get all Pokemons that have less than 4 weaknesses"
   ]
  },
  {
   "cell_type": "code",
   "execution_count": 11,
   "id": "fde23dcb",
   "metadata": {},
   "outputs": [],
   "source": [
    "a=lambda x:len(x.split(','))   # spliting variable using lambda"
   ]
  },
  {
   "cell_type": "code",
   "execution_count": 38,
   "id": "cd15b26d",
   "metadata": {},
   "outputs": [],
   "source": [
    "pokemon_names=list(df[df['weakness'].apply(a)<4]['name'])  # filtering and apply condition"
   ]
  },
  {
   "cell_type": "code",
   "execution_count": 39,
   "id": "2b7b9744",
   "metadata": {},
   "outputs": [
    {
     "data": {
      "text/plain": [
       "['Charmander',\n",
       " 'Charmeleon',\n",
       " 'Charizard',\n",
       " 'Squirtle',\n",
       " 'Wartortle',\n",
       " 'Blastoise',\n",
       " 'Caterpie',\n",
       " 'Metapod',\n",
       " 'Pidgey',\n",
       " 'Pidgeotto',\n",
       " 'Pidgeot',\n",
       " 'Rattata',\n",
       " 'Raticate',\n",
       " 'Spearow',\n",
       " 'Fearow',\n",
       " 'Ekans',\n",
       " 'Arbok',\n",
       " 'Pikachu',\n",
       " 'Raichu',\n",
       " 'Sandshrew',\n",
       " 'Sandslash',\n",
       " 'Nidoran ♀ (Female)',\n",
       " 'Nidorina',\n",
       " 'Nidoran ♂ (Male)',\n",
       " 'Nidorino',\n",
       " 'Clefairy',\n",
       " 'Clefable',\n",
       " 'Vulpix',\n",
       " 'Ninetales',\n",
       " 'Jigglypuff',\n",
       " 'Wigglytuff',\n",
       " 'Diglett',\n",
       " 'Dugtrio',\n",
       " 'Meowth',\n",
       " 'Persian',\n",
       " 'Psyduck',\n",
       " 'Golduck',\n",
       " 'Mankey',\n",
       " 'Primeape',\n",
       " 'Growlithe',\n",
       " 'Arcanine',\n",
       " 'Poliwag',\n",
       " 'Poliwhirl',\n",
       " 'Abra',\n",
       " 'Kadabra',\n",
       " 'Alakazam',\n",
       " 'Machop',\n",
       " 'Machoke',\n",
       " 'Machamp',\n",
       " 'Tentacool',\n",
       " 'Tentacruel',\n",
       " 'Ponyta',\n",
       " 'Rapidash',\n",
       " 'Magnemite',\n",
       " 'Magneton',\n",
       " \"Farfetch'd\",\n",
       " 'Doduo',\n",
       " 'Dodrio',\n",
       " 'Seel',\n",
       " 'Grimer',\n",
       " 'Muk',\n",
       " 'Shellder',\n",
       " 'Drowzee',\n",
       " 'Hypno',\n",
       " 'Krabby',\n",
       " 'Kingler',\n",
       " 'Voltorb',\n",
       " 'Electrode',\n",
       " 'Cubone',\n",
       " 'Marowak',\n",
       " 'Hitmonlee',\n",
       " 'Hitmonchan',\n",
       " 'Lickitung',\n",
       " 'Koffing',\n",
       " 'Weezing',\n",
       " 'Chansey',\n",
       " 'Kangaskhan',\n",
       " 'Horsea',\n",
       " 'Seadra',\n",
       " 'Goldeen',\n",
       " 'Seaking',\n",
       " 'Staryu',\n",
       " 'Mr. Mime',\n",
       " 'Electabuzz',\n",
       " 'Magmar',\n",
       " 'Pinsir',\n",
       " 'Tauros',\n",
       " 'Magikarp',\n",
       " 'Gyarados',\n",
       " 'Ditto',\n",
       " 'Eevee',\n",
       " 'Vaporeon',\n",
       " 'Jolteon',\n",
       " 'Flareon',\n",
       " 'Porygon',\n",
       " 'Snorlax',\n",
       " 'Zapdos',\n",
       " 'Moltres',\n",
       " 'Dratini',\n",
       " 'Dragonair',\n",
       " 'Mewtwo',\n",
       " 'Mew']"
      ]
     },
     "execution_count": 39,
     "metadata": {},
     "output_type": "execute_result"
    }
   ],
   "source": [
    "pokemon_names"
   ]
  },
  {
   "cell_type": "code",
   "execution_count": 13,
   "id": "dcf572e9",
   "metadata": {},
   "outputs": [],
   "source": [
    "weaknesses_df= df[df['weakness'].apply(a)<4]   # filering and apply com=ndition"
   ]
  },
  {
   "cell_type": "code",
   "execution_count": 14,
   "id": "5a82f47b",
   "metadata": {},
   "outputs": [],
   "source": [
    "# weaknessless4 = df['weakness'].apply(a)<4"
   ]
  },
  {
   "cell_type": "code",
   "execution_count": 15,
   "id": "78e14f8d",
   "metadata": {},
   "outputs": [],
   "source": [
    "weaknesses_count = weaknesses_df['weakness'].apply(lambda x: len(x.split(\",\"))).value_counts() # getting  weaknesses_count"
   ]
  },
  {
   "cell_type": "code",
   "execution_count": 16,
   "id": "cd7ca3e5",
   "metadata": {},
   "outputs": [
    {
     "data": {
      "text/plain": [
       "3    42\n",
       "2    38\n",
       "1    22\n",
       "Name: weakness, dtype: int64"
      ]
     },
     "execution_count": 16,
     "metadata": {},
     "output_type": "execute_result"
    }
   ],
   "source": [
    "weaknesses_count"
   ]
  },
  {
   "cell_type": "code",
   "execution_count": 17,
   "id": "e09ad665",
   "metadata": {},
   "outputs": [
    {
     "data": {
      "image/png": "[encoded data removed]",
      "text/plain": [
       "<Figure size 400x400 with 1 Axes>"
      ]
     },
     "metadata": {},
     "output_type": "display_data"
    }
   ],
   "source": [
    "plt.figure(figsize=(4, 4))               # Plot the Pokemon that have less than 4 weaknesses\n",
    "plt.pie(weaknesses_count, labels=weaknesses_count.index, autopct='%1.2f%%')  # pie plot\n",
    "plt.title('Pokemon with Less Than 4 Weaknesses', fontsize = 18)\n",
    "plt.show()"
   ]
  },
  {
   "cell_type": "markdown",
   "id": "b44ee045",
   "metadata": {},
   "source": [
    "#### Get all Pokemons that have no multipliers at all"
   ]
  },
  {
   "cell_type": "code",
   "execution_count": 19,
   "id": "e050b180",
   "metadata": {},
   "outputs": [],
   "source": [
    "pokemons=list(df[df['multipliers'].isnull()==True]['name']) #  # filering and apply condition"
   ]
  },
  {
   "cell_type": "code",
   "execution_count": 20,
   "id": "ddb2c0cd",
   "metadata": {},
   "outputs": [
    {
     "data": {
      "text/plain": [
       "['Venusaur',\n",
       " 'Charizard',\n",
       " 'Blastoise',\n",
       " 'Butterfree',\n",
       " 'Beedrill',\n",
       " 'Pidgeot',\n",
       " 'Raticate',\n",
       " 'Fearow',\n",
       " 'Arbok',\n",
       " 'Raichu',\n",
       " 'Sandslash',\n",
       " 'Nidoqueen',\n",
       " 'Nidoking',\n",
       " 'Clefable',\n",
       " 'Ninetales',\n",
       " 'Wigglytuff',\n",
       " 'Golbat',\n",
       " 'Vileplume',\n",
       " 'Parasect',\n",
       " 'Venomoth',\n",
       " 'Dugtrio',\n",
       " 'Persian',\n",
       " 'Golduck',\n",
       " 'Primeape',\n",
       " 'Arcanine',\n",
       " 'Poliwrath',\n",
       " 'Alakazam',\n",
       " 'Machamp',\n",
       " 'Victreebel',\n",
       " 'Tentacruel',\n",
       " 'Golem',\n",
       " 'Rapidash',\n",
       " 'Slowbro',\n",
       " 'Magneton',\n",
       " \"Farfetch'd\",\n",
       " 'Dodrio',\n",
       " 'Dewgong',\n",
       " 'Muk',\n",
       " 'Cloyster',\n",
       " 'Gengar',\n",
       " 'Onix',\n",
       " 'Hypno',\n",
       " 'Kingler',\n",
       " 'Electrode',\n",
       " 'Exeggutor',\n",
       " 'Marowak',\n",
       " 'Hitmonlee',\n",
       " 'Hitmonchan',\n",
       " 'Lickitung',\n",
       " 'Weezing',\n",
       " 'Rhydon',\n",
       " 'Chansey',\n",
       " 'Tangela',\n",
       " 'Kangaskhan',\n",
       " 'Seadra',\n",
       " 'Seaking',\n",
       " 'Starmie',\n",
       " 'Mr. Mime',\n",
       " 'Scyther',\n",
       " 'Jynx',\n",
       " 'Electabuzz',\n",
       " 'Magmar',\n",
       " 'Pinsir',\n",
       " 'Tauros',\n",
       " 'Gyarados',\n",
       " 'Lapras',\n",
       " 'Ditto',\n",
       " 'Vaporeon',\n",
       " 'Jolteon',\n",
       " 'Flareon',\n",
       " 'Porygon',\n",
       " 'Omastar',\n",
       " 'Kabutops',\n",
       " 'Aerodactyl',\n",
       " 'Snorlax',\n",
       " 'Articuno',\n",
       " 'Zapdos',\n",
       " 'Moltres',\n",
       " 'Dragonite',\n",
       " 'Mewtwo',\n",
       " 'Mew']"
      ]
     },
     "execution_count": 20,
     "metadata": {},
     "output_type": "execute_result"
    }
   ],
   "source": [
    "pokemons   # Get all Pokemons that have no multipliers at all"
   ]
  },
  {
   "cell_type": "code",
   "execution_count": 21,
   "id": "06f5609a",
   "metadata": {},
   "outputs": [],
   "source": [
    "non_multipliers_df = df[df['multipliers'].isnull() == True]  # Filter the DataFrame to get Pokemon with no multipliers\n",
    "\n",
    "multipliers_df = df[df['multipliers'].isnull() == False]   # Filter the DataFrame to get Pokemon with multipliers\n",
    "\n",
    "non_multiplier_count = len(non_multipliers_df)          # Count the length of multipliers and non multipliers\n",
    "multiplier_count = len(multipliers_df)"
   ]
  },
  {
   "cell_type": "code",
   "execution_count": 22,
   "id": "cdd686ca",
   "metadata": {},
   "outputs": [
    {
     "data": {
      "image/png": "[encoded data removed]",
      "text/plain": [
       "<Figure size 400x400 with 1 Axes>"
      ]
     },
     "metadata": {},
     "output_type": "display_data"
    }
   ],
   "source": [
    "labels = ['Non-Multipliers', 'Multipliers']            # Create labels for the pie chart\n",
    "\n",
    "sizes = [non_multiplier_count, multiplier_count]    # Create sizes for the pie chart\n",
    "\n",
    "plt.figure(figsize=(4, 4))                     # Plot the Pokemon that have nomultipliers at all\n",
    "plt.pie(sizes, labels=labels,explode=(0.1, 0), autopct='%1.2f%%', startangle=90)   # pie plot\n",
    "plt.title('Distribution of Pokemon Multipliers', fontsize = 18)\n",
    "plt.show()"
   ]
  },
  {
   "cell_type": "markdown",
   "id": "54b56f65",
   "metadata": {},
   "source": [
    "####  Get all Pokemons that do not have more than 2 evolutions"
   ]
  },
  {
   "cell_type": "code",
   "execution_count": 24,
   "id": "6a610836",
   "metadata": {},
   "outputs": [
    {
     "name": "stderr",
     "output_type": "stream",
     "text": [
      "C:\\Users\\ashis\\AppData\\Local\\Temp\\ipykernel_27728\\454286244.py:2: SettingWithCopyWarning: \n",
      "A value is trying to be set on a copy of a slice from a DataFrame.\n",
      "Try using .loc[row_indexer,col_indexer] = value instead\n",
      "\n",
      "See the caveats in the documentation: https://pandas.pydata.org/pandas-docs/stable/user_guide/indexing.html#returning-a-view-versus-a-copy\n",
      "  df1['evolution'] = df1[['next_evolution', 'prev_evolution']].apply(lambda x: ', '.join(x[x.notnull()]), axis = 1)\n"
     ]
    },
    {
     "data": {
      "text/html": [
       "<div>\n",
       "<style scoped>\n",
       "    .dataframe tbody tr th:only-of-type {\n",
       "        vertical-align: middle;\n",
       "    }\n",
       "\n",
       "    .dataframe tbody tr th {\n",
       "        vertical-align: top;\n",
       "    }\n",
       "\n",
       "    .dataframe thead th {\n",
       "        text-align: right;\n",
       "    }\n",
       "</style>\n",
       "<table border=\"1\" class=\"dataframe\">\n",
       "  <thead>\n",
       "    <tr style=\"text-align: right;\">\n",
       "      <th></th>\n",
       "      <th>name</th>\n",
       "      <th>next_evolution</th>\n",
       "      <th>prev_evolution</th>\n",
       "      <th>evolution</th>\n",
       "    </tr>\n",
       "  </thead>\n",
       "  <tbody>\n",
       "    <tr>\n",
       "      <th>0</th>\n",
       "      <td>Bulbasaur</td>\n",
       "      <td>Ivysaur, Venusaur</td>\n",
       "      <td>NaN</td>\n",
       "      <td>Ivysaur, Venusaur</td>\n",
       "    </tr>\n",
       "    <tr>\n",
       "      <th>1</th>\n",
       "      <td>Ivysaur</td>\n",
       "      <td>Venusaur</td>\n",
       "      <td>Bulbasaur</td>\n",
       "      <td>Venusaur, Bulbasaur</td>\n",
       "    </tr>\n",
       "    <tr>\n",
       "      <th>2</th>\n",
       "      <td>Venusaur</td>\n",
       "      <td>NaN</td>\n",
       "      <td>Bulbasaur, Ivysaur</td>\n",
       "      <td>Bulbasaur, Ivysaur</td>\n",
       "    </tr>\n",
       "    <tr>\n",
       "      <th>3</th>\n",
       "      <td>Charmander</td>\n",
       "      <td>Charmeleon, Charizard</td>\n",
       "      <td>NaN</td>\n",
       "      <td>Charmeleon, Charizard</td>\n",
       "    </tr>\n",
       "    <tr>\n",
       "      <th>4</th>\n",
       "      <td>Charmeleon</td>\n",
       "      <td>Charizard</td>\n",
       "      <td>Charmander</td>\n",
       "      <td>Charizard, Charmander</td>\n",
       "    </tr>\n",
       "    <tr>\n",
       "      <th>...</th>\n",
       "      <td>...</td>\n",
       "      <td>...</td>\n",
       "      <td>...</td>\n",
       "      <td>...</td>\n",
       "    </tr>\n",
       "    <tr>\n",
       "      <th>146</th>\n",
       "      <td>Dratini</td>\n",
       "      <td>Dragonair, Dragonite</td>\n",
       "      <td>NaN</td>\n",
       "      <td>Dragonair, Dragonite</td>\n",
       "    </tr>\n",
       "    <tr>\n",
       "      <th>147</th>\n",
       "      <td>Dragonair</td>\n",
       "      <td>Dragonite</td>\n",
       "      <td>Dratini</td>\n",
       "      <td>Dragonite, Dratini</td>\n",
       "    </tr>\n",
       "    <tr>\n",
       "      <th>148</th>\n",
       "      <td>Dragonite</td>\n",
       "      <td>NaN</td>\n",
       "      <td>Dratini, Dragonair</td>\n",
       "      <td>Dratini, Dragonair</td>\n",
       "    </tr>\n",
       "    <tr>\n",
       "      <th>149</th>\n",
       "      <td>Mewtwo</td>\n",
       "      <td>NaN</td>\n",
       "      <td>NaN</td>\n",
       "      <td></td>\n",
       "    </tr>\n",
       "    <tr>\n",
       "      <th>150</th>\n",
       "      <td>Mew</td>\n",
       "      <td>NaN</td>\n",
       "      <td>NaN</td>\n",
       "      <td></td>\n",
       "    </tr>\n",
       "  </tbody>\n",
       "</table>\n",
       "<p>151 rows × 4 columns</p>\n",
       "</div>"
      ],
      "text/plain": [
       "           name         next_evolution      prev_evolution  \\\n",
       "0     Bulbasaur      Ivysaur, Venusaur                 NaN   \n",
       "1       Ivysaur               Venusaur           Bulbasaur   \n",
       "2      Venusaur                    NaN  Bulbasaur, Ivysaur   \n",
       "3    Charmander  Charmeleon, Charizard                 NaN   \n",
       "4    Charmeleon              Charizard          Charmander   \n",
       "..          ...                    ...                 ...   \n",
       "146     Dratini   Dragonair, Dragonite                 NaN   \n",
       "147   Dragonair              Dragonite             Dratini   \n",
       "148   Dragonite                    NaN  Dratini, Dragonair   \n",
       "149      Mewtwo                    NaN                 NaN   \n",
       "150         Mew                    NaN                 NaN   \n",
       "\n",
       "                 evolution  \n",
       "0        Ivysaur, Venusaur  \n",
       "1      Venusaur, Bulbasaur  \n",
       "2       Bulbasaur, Ivysaur  \n",
       "3    Charmeleon, Charizard  \n",
       "4    Charizard, Charmander  \n",
       "..                     ...  \n",
       "146   Dragonair, Dragonite  \n",
       "147     Dragonite, Dratini  \n",
       "148     Dratini, Dragonair  \n",
       "149                         \n",
       "150                         \n",
       "\n",
       "[151 rows x 4 columns]"
      ]
     },
     "execution_count": 24,
     "metadata": {},
     "output_type": "execute_result"
    }
   ],
   "source": [
    "df1=df[['name','next_evolution','prev_evolution']] # filtering dataframe -- get new dataframe\n",
    "df1['evolution'] = df1[['next_evolution', 'prev_evolution']].apply(lambda x: ', '.join(x[x.notnull()]), axis = 1)\n",
    "df1             # adding 'next_evolution', 'prev_evolution' as one column  'evolution'"
   ]
  },
  {
   "cell_type": "code",
   "execution_count": 25,
   "id": "58680882",
   "metadata": {},
   "outputs": [],
   "source": [
    "a=lambda x:len(x.split(',')) # split variable using lambda"
   ]
  },
  {
   "cell_type": "code",
   "execution_count": 26,
   "id": "f0a42268",
   "metadata": {},
   "outputs": [
    {
     "name": "stdout",
     "output_type": "stream",
     "text": [
      "Pokemons that do not have more than 2 evolution:\n",
      "  ['Rattata', 'Raticate', 'Spearow', 'Fearow', 'Ekans', 'Arbok', 'Pikachu', 'Raichu', 'Sandshrew', 'Sandslash', 'Clefairy', 'Clefable', 'Vulpix', 'Ninetales', 'Jigglypuff', 'Wigglytuff', 'Zubat', 'Golbat', 'Paras', 'Parasect', 'Venonat', 'Venomoth', 'Diglett', 'Dugtrio', 'Meowth', 'Persian', 'Psyduck', 'Golduck', 'Mankey', 'Primeape', 'Growlithe', 'Arcanine', 'Tentacool', 'Tentacruel', 'Ponyta', 'Rapidash', 'Slowpoke', 'Slowbro', 'Magnemite', 'Magneton', \"Farfetch'd\", 'Doduo', 'Dodrio', 'Seel', 'Dewgong', 'Grimer', 'Muk', 'Shellder', 'Cloyster', 'Onix', 'Drowzee', 'Hypno', 'Krabby', 'Kingler', 'Voltorb', 'Electrode', 'Exeggcute', 'Exeggutor', 'Cubone', 'Marowak', 'Hitmonlee', 'Hitmonchan', 'Lickitung', 'Koffing', 'Weezing', 'Rhyhorn', 'Rhydon', 'Chansey', 'Tangela', 'Kangaskhan', 'Horsea', 'Seadra', 'Goldeen', 'Seaking', 'Staryu', 'Starmie', 'Mr. Mime', 'Scyther', 'Jynx', 'Electabuzz', 'Magmar', 'Pinsir', 'Tauros', 'Magikarp', 'Gyarados', 'Lapras', 'Ditto', 'Vaporeon', 'Jolteon', 'Flareon', 'Porygon', 'Omanyte', 'Omastar', 'Kabuto', 'Kabutops', 'Aerodactyl', 'Snorlax', 'Articuno', 'Zapdos', 'Moltres', 'Mewtwo', 'Mew'] 102\n"
     ]
    }
   ],
   "source": [
    "pokemon_names=list(df1[df1['evolution'].apply(a) < 2]['name']) # filterig and apply required condition\n",
    "print('Pokemons that do not have more than 2 evolution:\\n ',pokemon_names,len(pokemon_names))"
   ]
  },
  {
   "cell_type": "code",
   "execution_count": 27,
   "id": "3405cac3",
   "metadata": {},
   "outputs": [],
   "source": [
    "evolution_df= df1[df1['evolution'].apply(a)<4]   # filterig and apply required condition"
   ]
  },
  {
   "cell_type": "code",
   "execution_count": 28,
   "id": "78b5a2c8",
   "metadata": {},
   "outputs": [],
   "source": [
    "evolution_count = evolution_df['evolution'].apply(lambda x: len(x.split(\",\"))).value_counts() # count values"
   ]
  },
  {
   "cell_type": "code",
   "execution_count": 29,
   "id": "1d43e68b",
   "metadata": {},
   "outputs": [
    {
     "data": {
      "image/png": "[encoded data removed]",
      "text/plain": [
       "<Figure size 400x400 with 1 Axes>"
      ]
     },
     "metadata": {},
     "output_type": "display_data"
    }
   ],
   "source": [
    "plt.figure(figsize=(4, 4))         # Plot the pie chart of Pokemon that do not have more than 2 evolutions\n",
    "plt.pie(evolution_count.values, labels=evolution_count.index, autopct='%1.2f%%', colors=['red', 'yellow'])  # pie plot\n",
    "plt.title('Pokemon with Not More Than 2 Evolutions', fontsize = 15)\n",
    "plt.show()"
   ]
  },
  {
   "cell_type": "markdown",
   "id": "0dd84e95",
   "metadata": {},
   "source": [
    "####  Get all Pokemons whose spawn time is less than 300 seconds"
   ]
  },
  {
   "cell_type": "code",
   "execution_count": 31,
   "id": "0db74a36",
   "metadata": {},
   "outputs": [
    {
     "data": {
      "text/plain": [
       "0      20:00\n",
       "1      07:00\n",
       "2      11:30\n",
       "3      08:45\n",
       "4      19:00\n",
       "       ...  \n",
       "146    06:41\n",
       "147    11:57\n",
       "148    23:38\n",
       "149      NaN\n",
       "150      NaN\n",
       "Name: spawn_time, Length: 151, dtype: object"
      ]
     },
     "execution_count": 31,
     "metadata": {},
     "output_type": "execute_result"
    }
   ],
   "source": [
    "df['spawn_time']   # see particular 'spawn_time' variable"
   ]
  },
  {
   "cell_type": "code",
   "execution_count": 32,
   "id": "438a7477",
   "metadata": {},
   "outputs": [],
   "source": [
    "def filter_pokemon_by_spawn_time(pokemon_data, max_spawn_time=300):  #function calculate evaluation time of each pokemon \n",
    "    filtered_pokemon = []                        \n",
    "    filtered_pokemon = []\n",
    "    for i in pokemon_data.index:\n",
    "        spawn_time = str(pokemon_data.loc[i,'spawn_time'])\n",
    "        if spawn_time!='nan':\n",
    "            minutes, seconds = map(int, spawn_time.split(':')) ##split time into minutes and seconds and caluculating seconds \n",
    "            if total_seconds < max_spawn_time:                               # by minutes*60+seconds\n",
    "            total_seconds = minutes * 60 + seconds\n",
    "                filtered_pokemon.append(pokemon_data.loc[i,'name'])\n",
    "    return list(filtered_pokemon)  # return the pokemon whose evaluation time is less than 300 seconds"
   ]
  },
  {
   "cell_type": "code",
   "execution_count": 40,
   "id": "a7b46e3e",
   "metadata": {},
   "outputs": [
    {
     "name": "stdout",
     "output_type": "stream",
     "text": [
      "Pokemons whose spawn time is less than 300 seconds:\n",
      "  ['Squirtle', 'Blastoise', 'Metapod', 'Weedle', 'Kakuna', 'Beedrill', 'Pidgey', 'Pidgeotto', 'Pidgeot', 'Rattata', 'Raticate', 'Fearow', 'Arbok', 'Pikachu', 'Sandshrew', 'Nidoran ♀ (Female)', 'Nidoran ♂ (Male)', 'Clefairy', 'Clefable', 'Ninetales', 'Golbat', 'Oddish', 'Paras', 'Parasect', 'Venonat', 'Diglett', 'Meowth', 'Persian', 'Psyduck', 'Growlithe', 'Arcanine', 'Poliwag', 'Poliwrath', 'Abra', 'Machop', 'Machamp', 'Bellsprout', 'Tentacool', 'Graveler', 'Ponyta', 'Rapidash', 'Slowbro', 'Magnemite', \"Farfetch'd\", 'Dodrio', 'Muk', 'Cloyster', 'Gastly', 'Haunter', 'Gengar', 'Onix', 'Drowzee', 'Hypno', 'Krabby', 'Kingler', 'Voltorb', 'Electrode', 'Cubone', 'Marowak', 'Hitmonlee', 'Lickitung', 'Rhyhorn', 'Chansey', 'Kangaskhan', 'Horsea', 'Seadra', 'Goldeen', 'Mr. Mime', 'Electabuzz', 'Pinsir', 'Tauros', 'Gyarados', 'Jolteon', 'Porygon', 'Kabuto']\n"
     ]
    },
    {
     "data": {
      "text/plain": [
       "75"
      ]
     },
     "execution_count": 40,
     "metadata": {},
     "output_type": "execute_result"
    }
   ],
   "source": [
    "p=filter_pokemon_by_spawn_time(df, max_spawn_time=300)  # filtering spawn time\n",
    "print('Pokemons whose spawn time is less than 300 seconds:\\n ',p)\n",
    "len(p)"
   ]
  },
  {
   "cell_type": "markdown",
   "id": "e3bb60cb",
   "metadata": {},
   "source": [
    "#### Get all Pokemon who have more than two types of capabilities"
   ]
  },
  {
   "cell_type": "code",
   "execution_count": 34,
   "id": "adafecb3",
   "metadata": {},
   "outputs": [
    {
     "data": {
      "text/plain": [
       "array(['Grass, Poison', 'Fire', 'Fire, Flying', 'Water', 'Bug',\n",
       "       'Bug, Flying', 'Bug, Poison', 'Normal, Flying', 'Normal', 'Poison',\n",
       "       'Electric', 'Ground', 'Poison, Ground', 'Poison, Flying',\n",
       "       'Bug, Grass', 'Fighting', 'Water, Fighting', 'Psychic',\n",
       "       'Water, Poison', 'Rock, Ground', 'Water, Psychic', 'Water, Ice',\n",
       "       'Ghost, Poison', 'Grass, Psychic', 'Ground, Rock', 'Grass',\n",
       "       'Ice, Psychic', 'Water, Flying', 'Rock, Water', 'Rock, Flying',\n",
       "       'Ice, Flying', 'Electric, Flying', 'Dragon', 'Dragon, Flying'],\n",
       "      dtype=object)"
      ]
     },
     "execution_count": 34,
     "metadata": {},
     "output_type": "execute_result"
    }
   ],
   "source": [
    "df['type'].unique()   # get unique values of type variable"
   ]
  },
  {
   "cell_type": "code",
   "execution_count": 36,
   "id": "88c5c308",
   "metadata": {},
   "outputs": [
    {
     "name": "stdout",
     "output_type": "stream",
     "text": [
      "Pokemon who have more than two types of capabilities:\n",
      "  [] 0\n"
     ]
    }
   ],
   "source": [
    "a=lambda x:len(x.split(','))    # split using lambda function\n",
    "pokemon_names=list(df[df['type'].apply(a)>2]['name'])   # filter\n",
    "print('Pokemon who have more than two types of capabilities:\\n ',pokemon_names,len(pokemon_names))"
   ]
  },
  {
   "cell_type": "code",
   "execution_count": null,
   "id": "75587568",
   "metadata": {},
   "outputs": [],
   "source": []
  }
 ],
 "metadata": {
  "kernelspec": {
   "display_name": "Python 3 (ipykernel)",
   "language": "python",
   "name": "python3"
  },
  "language_info": {
   "codemirror_mode": {
    "name": "ipython",
    "version": 3
   },
   "file_extension": ".py",
   "mimetype": "text/x-python",
   "name": "python",
   "nbconvert_exporter": "python",
   "pygments_lexer": "ipython3",
   "version": "3.9.13"
  }
 },
 "nbformat": 4,
 "nbformat_minor": 5
}
