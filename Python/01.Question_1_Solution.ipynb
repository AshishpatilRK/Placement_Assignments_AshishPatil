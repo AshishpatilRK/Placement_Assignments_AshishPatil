{
 "cells": [
  {
   "cell_type": "markdown",
   "id": "98d92a7c",
   "metadata": {},
   "source": [
    "# Question 1"
   ]
  },
  {
   "cell_type": "markdown",
   "id": "81e29cf3",
   "metadata": {},
   "source": [
    "#### Write a program that takes a string as input, and counts the frequency of each word in the string, there might be repeated characters in the string. Your task is to find the highest frequency and returns the length of the highest-frequency word.\n",
    "#### Note - You have to write at least 2 additional test cases in which your program will run successfully and provide an explanation for the same.\n",
    "#### Example input - string = “write write write all the number from from from 1 to 100”\n",
    "#### Example output - 5\n",
    "#### Explanation - From the given string we can note that the most frequent words are “write” and “from” and the maximum value of both the values is “write” and its corresponding length is 5"
   ]
  },
  {
   "cell_type": "markdown",
   "id": "dbeac859",
   "metadata": {},
   "source": [
    "### Ans"
   ]
  },
  {
   "cell_type": "code",
   "execution_count": 1,
   "id": "f926471a",
   "metadata": {},
   "outputs": [],
   "source": [
    "def highest_freq_w(str):\n",
    "    words = str.split()  # Split the string into words\n",
    "\n",
    "    freq = {}         # Create a dictionary \n",
    "\n",
    "    for word in words:             # Count the frequency of each word\n",
    "        if word in freq:\n",
    "            freq[word] += 1\n",
    "        else:\n",
    "            freq[word] = 1\n",
    "\n",
    "    highest_freq = 0             \n",
    "    highest_freq_w = \"\"\n",
    "\n",
    "    for word in freq:        # Find the word with the highest frequency\n",
    "        if freq[word] > highest_freq:\n",
    "            highest_freq = freq[word]\n",
    "            highest_freq_w = word\n",
    "\n",
    "    print(f\"Highest frequency word is : {highest_freq_w} \")  # Print the highest-frequency word\n",
    "\n",
    "    return len(highest_freq_w)    # Return the length of the highest-frequency word"
   ]
  },
  {
   "cell_type": "code",
   "execution_count": 2,
   "id": "6131831a",
   "metadata": {},
   "outputs": [
    {
     "name": "stdout",
     "output_type": "stream",
     "text": [
      "Highest frequency word is : write \n"
     ]
    },
    {
     "data": {
      "text/plain": [
       "5"
      ]
     },
     "execution_count": 2,
     "metadata": {},
     "output_type": "execute_result"
    }
   ],
   "source": [
    "str =\"write write write all the number from from from 1 to 100\"\n",
    "highest_freq_w(str)"
   ]
  },
  {
   "cell_type": "markdown",
   "id": "1ba743f2",
   "metadata": {},
   "source": [
    "#### Explanation - \n",
    "       From the given string we can note that the most frequent words are “write” and “from” and the maximum length word is “write” and its corresponding length is 5"
   ]
  },
  {
   "cell_type": "code",
   "execution_count": 3,
   "id": "dd641cb2",
   "metadata": {},
   "outputs": [
    {
     "name": "stdout",
     "output_type": "stream",
     "text": [
      "Highest frequency word is : country \n"
     ]
    },
    {
     "data": {
      "text/plain": [
       "7"
      ]
     },
     "execution_count": 3,
     "metadata": {},
     "output_type": "execute_result"
    }
   ],
   "source": [
    "str =\"India India is is is my my my my country country country country country\"\n",
    "highest_freq_w(str)"
   ]
  },
  {
   "cell_type": "markdown",
   "id": "d95997be",
   "metadata": {},
   "source": [
    "#### Explanation - \n",
    "         From the given string we can note that the most frequent words are “country”,\"my\",\"is\" and “India” and the maximum length word is “country” and its corresponding length is 7"
   ]
  },
  {
   "cell_type": "code",
   "execution_count": null,
   "id": "c6e55ab7",
   "metadata": {},
   "outputs": [],
   "source": []
  }
 ],
 "metadata": {
  "kernelspec": {
   "display_name": "Python 3 (ipykernel)",
   "language": "python",
   "name": "python3"
  },
  "language_info": {
   "codemirror_mode": {
    "name": "ipython",
    "version": 3
   },
   "file_extension": ".py",
   "mimetype": "text/x-python",
   "name": "python",
   "nbconvert_exporter": "python",
   "pygments_lexer": "ipython3",
   "version": "3.9.13"
  }
 },
 "nbformat": 4,
 "nbformat_minor": 5
}
