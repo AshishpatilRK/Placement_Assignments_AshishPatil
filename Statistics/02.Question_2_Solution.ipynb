{
 "cells": [
  {
   "cell_type": "markdown",
   "id": "61250246",
   "metadata": {},
   "source": [
    "# Question 2"
   ]
  },
  {
   "cell_type": "markdown",
   "id": "9bc76cab",
   "metadata": {},
   "source": [
    "Consider a dataset containing the heights (in centimeters) of 1000 individuals. The\n",
    "mean height is 170 cm with a standard deviation of 10 cm. The dataset is approximately\n",
    "normally distributed, and its skewness is approximately zero. Based on this information,\n",
    "answer the following questions:"
   ]
  },
  {
   "cell_type": "markdown",
   "id": "7ee774b0",
   "metadata": {},
   "source": [
    "    a. What percentage of individuals in the dataset have heights between 160 cm\n",
    "    and 180 cm?\n",
    "    b. If we randomly select 100 individuals from the dataset, what is the probability\n",
    "    that their average height is greater than 175 cm?\n",
    "    c. Assuming the dataset follows a normal distribution, what is the z-score\n",
    "    corresponding to a height of 185 cm?\n",
    "    d. We know that 5% of the dataset has heights below a certain value. What is\n",
    "    the approximate height corresponding to this threshold?\n",
    "    e. Calculate the coefficient of variation (CV) for the dataset.\n",
    "    f. Calculate the skewness of the dataset and interpret the result."
   ]
  },
  {
   "cell_type": "markdown",
   "id": "86212d1b",
   "metadata": {},
   "source": [
    "#### Ans"
   ]
  },
  {
   "cell_type": "code",
   "execution_count": 2,
   "id": "4b36ba98",
   "metadata": {},
   "outputs": [],
   "source": [
    "import scipy.stats as stats    # importing scipy library "
   ]
  },
  {
   "cell_type": "code",
   "execution_count": 3,
   "id": "04d55a7b",
   "metadata": {},
   "outputs": [],
   "source": [
    "# Given values\n",
    "mean_height = 170\n",
    "std_dev = 10"
   ]
  },
  {
   "cell_type": "markdown",
   "id": "a73661e3",
   "metadata": {},
   "source": [
    "#### a. What percentage of individuals in the dataset have heights between 160 cm and 180 cm?"
   ]
  },
  {
   "cell_type": "markdown",
   "id": "6e12efca",
   "metadata": {},
   "source": [
    "        z = (x - μ) / σ    where x is the height, μ is the mean, and σ is the standard deviation."
   ]
  },
  {
   "cell_type": "code",
   "execution_count": 5,
   "id": "a387a820",
   "metadata": {},
   "outputs": [
    {
     "name": "stdout",
     "output_type": "stream",
     "text": [
      "Percentage of individuals with heights between 160 cm and 180 cm: 68.27%\n"
     ]
    }
   ],
   "source": [
    "z1 = (160 - mean_height) / std_dev\n",
    "z2 = (180 - mean_height) / std_dev\n",
    "percentage_between = stats.norm.cdf(z2) - stats.norm.cdf(z1)\n",
    "percentage_between *= 100\n",
    "\n",
    "print(f\"Percentage of individuals with heights between 160 cm and 180 cm: {percentage_between:.2f}%\")"
   ]
  },
  {
   "cell_type": "markdown",
   "id": "e4eac182",
   "metadata": {},
   "source": [
    "#### b. If we randomly select 100 individuals from the dataset, what is the probability that their average height is greater than 175 cm?"
   ]
  },
  {
   "cell_type": "code",
   "execution_count": 7,
   "id": "ad25184d",
   "metadata": {},
   "outputs": [
    {
     "name": "stdout",
     "output_type": "stream",
     "text": [
      "Probability that the average height of 100 individuals is greater than 175 cm: 0.0000\n"
     ]
    }
   ],
   "source": [
    "sample_size = 100\n",
    "sample_mean_std_dev = std_dev / (sample_size ** 0.5)\n",
    "z_score = (175 - mean_height) / sample_mean_std_dev\n",
    "probability_greater = 1 - stats.norm.cdf(z_score)\n",
    "\n",
    "print(f\"Probability that the average height of 100 individuals is greater than 175 cm: {probability_greater:.4f}\")"
   ]
  },
  {
   "cell_type": "markdown",
   "id": "3a6c1c87",
   "metadata": {},
   "source": [
    "#### c. Assuming the dataset follows a normal distribution, what is the z-score corresponding to a height of 185 cm?"
   ]
  },
  {
   "cell_type": "code",
   "execution_count": 9,
   "id": "e6ffadc9",
   "metadata": {},
   "outputs": [],
   "source": [
    "height = 185\n",
    "z_score = (height - mean_height) / std_dev"
   ]
  },
  {
   "cell_type": "code",
   "execution_count": 10,
   "id": "d633b5f7",
   "metadata": {},
   "outputs": [
    {
     "name": "stdout",
     "output_type": "stream",
     "text": [
      "Z-score corresponding to a height of 185 cm: 1.50\n"
     ]
    }
   ],
   "source": [
    "print(f\"Z-score corresponding to a height of 185 cm: {z_score:.2f}\")"
   ]
  },
  {
   "cell_type": "markdown",
   "id": "353b9891",
   "metadata": {},
   "source": [
    "#### d. We know that 5% of the dataset has heights below a certain value. What is the approximate height corresponding to this threshold?"
   ]
  },
  {
   "cell_type": "code",
   "execution_count": 12,
   "id": "e2d685a1",
   "metadata": {},
   "outputs": [
    {
     "name": "stdout",
     "output_type": "stream",
     "text": [
      "Approximate height corresponding to the 5th percentile: 153.55\n"
     ]
    }
   ],
   "source": [
    "percentile = 0.05\n",
    "threshold = stats.norm.ppf(percentile, mean_height, std_dev)\n",
    "\n",
    "print(f\"Approximate height corresponding to the 5th percentile: {threshold:.2f}\")"
   ]
  },
  {
   "cell_type": "markdown",
   "id": "8e12f674",
   "metadata": {},
   "source": [
    "#### e. Calculate the coefficient of variation (CV) for the dataset."
   ]
  },
  {
   "cell_type": "code",
   "execution_count": 14,
   "id": "e4e462a9",
   "metadata": {},
   "outputs": [
    {
     "name": "stdout",
     "output_type": "stream",
     "text": [
      "Coefficient of variation (CV) for the dataset: 5.88%\n"
     ]
    }
   ],
   "source": [
    "cv = (std_dev / mean_height) * 100\n",
    "\n",
    "print(f\"Coefficient of variation (CV) for the dataset: {cv:.2f}%\")"
   ]
  },
  {
   "cell_type": "markdown",
   "id": "44f3f0cb",
   "metadata": {},
   "source": [
    "#### f. Calculate the skewness of the dataset and interpret the result."
   ]
  },
  {
   "cell_type": "code",
   "execution_count": 16,
   "id": "a3132122",
   "metadata": {},
   "outputs": [
    {
     "name": "stdout",
     "output_type": "stream",
     "text": [
      "Skewness of the dataset: 0\n"
     ]
    }
   ],
   "source": [
    "skewness = 0  # Given that the skewness is approximately zero for the dataset\n",
    "\n",
    "print(f\"Skewness of the dataset: {skewness}\")"
   ]
  },
  {
   "cell_type": "code",
   "execution_count": null,
   "id": "77cc2365",
   "metadata": {},
   "outputs": [],
   "source": []
  },
  {
   "cell_type": "code",
   "execution_count": null,
   "id": "cf170ff2",
   "metadata": {},
   "outputs": [],
   "source": []
  }
 ],
 "metadata": {
  "kernelspec": {
   "display_name": "Python 3 (ipykernel)",
   "language": "python",
   "name": "python3"
  },
  "language_info": {
   "codemirror_mode": {
    "name": "ipython",
    "version": 3
   },
   "file_extension": ".py",
   "mimetype": "text/x-python",
   "name": "python",
   "nbconvert_exporter": "python",
   "pygments_lexer": "ipython3",
   "version": "3.9.13"
  }
 },
 "nbformat": 4,
 "nbformat_minor": 5
}
