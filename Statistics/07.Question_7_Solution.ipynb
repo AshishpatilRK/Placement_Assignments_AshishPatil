{
 "cells": [
  {
   "cell_type": "markdown",
   "id": "813f57f0",
   "metadata": {},
   "source": [
    "# Question 7 "
   ]
  },
  {
   "cell_type": "markdown",
   "id": "47426863",
   "metadata": {},
   "source": [
    "The equations of two lines of regression, obtained in a correlation analysis<br>\n",
    "between variables X and Y are as follows:<br>\n",
    "and . 2𝑋 + 3 − 8 = 0 2𝑌 + 𝑋 − 5 = 0 The variance of 𝑋 = 4 Find the<br>\n",
    "    a. Variance of Y<br>\n",
    "    b. Coefficient of determination of C and Y<br>\n",
    "    c. Standard error of estimate of X on Y and of Y on X.<br>"
   ]
  },
  {
   "cell_type": "markdown",
   "id": "32afc044",
   "metadata": {},
   "source": [
    "#### Ans"
   ]
  },
  {
   "cell_type": "markdown",
   "id": "802faf07",
   "metadata": {},
   "source": [
    "    To calculate the variance of Y, we can rearrange the equation of the regression line for \n",
    "    Y:  2Y + X - 5 = 0\n",
    "    Solving for Y: \n",
    "    2Y = -X + 5\n",
    "    Y = (-1/2)X + 5/2\n",
    "    Since the equation for Y is in the form Y = aX + b, where a is the coefficient of X and b is the intercept, \n",
    "    we can determine the variance of Y.\n",
    "\n",
    "    a. Variance of Y:\n",
    "    The variance of Y can be calculated using the formula: Var(Y) = a^2 * Var(X)\n",
    "    Given that the variance of X is 4, we substitute the values:\n",
    "    Var(Y) = (-1/2)^2 * 4\n",
    "    Var(Y) = 1 * 4\n",
    "    Var(Y) = 4\n",
    "    Therefore, the variance of Y is 4.\n",
    "\n",
    "    b. Coefficient of determination of X and Y:\n",
    "    The coefficient of determination, denoted as R^2, measures the proportion of the variance in the dependent variable (Y) \n",
    "    that can be explained by the independent variable (X).\n",
    "    R^2 = (Var(Y) - Var(residuals)) / Var(Y)\n",
    "    The variance of the residuals can be calculated by subtracting the explained variance from the total variance:\n",
    "    Var(residuals) = Var(Y) - Var(explained)\n",
    "    In this case, the variance of the residuals is the same as the variance of Y since the regression line explains all the variance.\n",
    "    Var(residuals) = Var(Y) = 4\n",
    "    Substituting the values:\n",
    "    R^2 = (4 - 4) / 4\n",
    "    R^2 = 0 / 4\n",
    "    R^2 = 0\n",
    "    Therefore, the coefficient of determination (R^2) between X and Y is 0.\n",
    "\n",
    "    c.The standard error of estimate represents the average distance between the observed values and the predicted values obtained from the regression line.\n",
    "    For the standard error of estimate of X on Y (Sxy), we use the formula:\n",
    "    Sxy = sqrt(Var(residuals))\n",
    "    Sxy = sqrt(4)\n",
    "    Sxy = 2\n",
    "    For the standard error of estimate of Y on X (Syx), we use the same formula:\n",
    "    Syx = sqrt(Var(residu\n",
    "    als))\n",
    "    Syx = sqrt(4)\n",
    "    Syx = 2\n",
    "    Therefore, the standard error of estimate for both X on Y (Sxy) and Y on X (Syx) is 2.\n"
   ]
  },
  {
   "cell_type": "markdown",
   "id": "bb774a3c",
   "metadata": {},
   "source": []
  },
  {
   "cell_type": "code",
   "execution_count": null,
   "id": "d3e6647f",
   "metadata": {},
   "outputs": [],
   "source": []
  }
 ],
 "metadata": {
  "kernelspec": {
   "display_name": "Python 3 (ipykernel)",
   "language": "python",
   "name": "python3"
  },
  "language_info": {
   "codemirror_mode": {
    "name": "ipython",
    "version": 3
   },
   "file_extension": ".py",
   "mimetype": "text/x-python",
   "name": "python",
   "nbconvert_exporter": "python",
   "pygments_lexer": "ipython3",
   "version": "3.9.13"
  }
 },
 "nbformat": 4,
 "nbformat_minor": 5
}
